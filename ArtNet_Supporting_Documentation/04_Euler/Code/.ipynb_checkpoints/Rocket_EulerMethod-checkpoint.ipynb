{
 "cells": [
  {
   "cell_type": "markdown",
   "metadata": {},
   "source": [
    "###### Content under Creative Commons Attribution license CC-BY 4.0, code under MIT license (c)2014 L.A. Barba, G.F. Forsyth."
   ]
  },
  {
   "cell_type": "markdown",
   "metadata": {},
   "source": [
    "# Coding Assignment: Rocket"
   ]
  },
  {
   "cell_type": "markdown",
   "metadata": {},
   "source": [
    "The equations of motion for a rocket in purely vertical flight are given by\n",
    "\n",
    "\\begin{align}\n",
    "\\frac{dh}{dt} &= v\\\\\n",
    "(m_s+m_p) \\frac{dv}{dt}& = -(m_s+m_p)g + \\dot{m}_pv_e - \\frac{1}{2}\\rho v|v|AC_D\n",
    "\\end{align}\n",
    "\n",
    "$h$ is the altitude of the rocket\n",
    "\n",
    "$m_s = 50kg$ is the weight of the rocket shell\n",
    "\n",
    "$g = 9.81 \\frac{m}{s^2}$\n",
    "\n",
    "$\\rho = 1.091 \\frac{kg}{m^3}$ is the average air density (assumed constant throughout flight)\n",
    "\n",
    "$A = \\pi r^2$ is the maximum cross sectional area of the rocket, where $r = 0.5 m$\n",
    "\n",
    "$v_e = 325 \\frac{m}{s}$ is the exhaust speed\n",
    "\n",
    "$C_D = 0.15 $ is the drag coefficient\n",
    "\n",
    "$m_{po} = 100 kg$ at time $t = 0$ is the initial weight of the rocket propellant\n",
    "\n",
    "The mass of the remaining propellant is given by:\n",
    "\n",
    "$$m_p = m_{po} - \\int^t_0 \\dot{m}_p d\\tau$$\n",
    "\n",
    "where $\\dot{m}_p$ is the time-varying burn rate given by the following figure:\n",
    "\n",
    "Propellant Burn Rate\n",
    "\n",
    "![burn rate](./burn.rate.png)\n",
    "\n",
    "Using Euler's method with a timestep of $\\Delta t=0.1s$, create a Python script to calculate the altitude and velocity of the rocket from launch until crash down.  \n",
    "\n",
    "\n",
    "\n",
    "\n"
   ]
  },
  {
   "cell_type": "markdown",
   "metadata": {},
   "source": [
    "## Assessment:\n",
    "\n",
    "To check your answers, you can register for [MAE 6286: Practical Numerical Methods with Python](http://openedx.seas.gwu.edu/courses/GW/MAE6286/2014_fall/about).\n",
    "\n",
    "1. At time $t=3.2s$, what is the mass (in kg) of rocket propellant remaining in the rocket?\n",
    "\n",
    "2. What is the maximum speed of the rocket in $\\frac{m}{s}$?\n",
    "    At what time does this occur (in seconds)? \n",
    "    What is the altitude at this time (in meters)? \n",
    "    \n",
    "3. What is the rocket's maximum altitude during flight (in meters)? At what time (in seconds) does this occur?\n",
    "\n",
    "4. At what time (in seconds) does the rocket impact the ground? What is the velocity of the rocket (in $\\frac{m}{s}$) at time of impact?"
   ]
  },
  {
   "cell_type": "markdown",
   "metadata": {},
   "source": [
    "## Derivation of the rocket equations"
   ]
  },
  {
   "cell_type": "markdown",
   "metadata": {},
   "source": [
    "In case you are kind of confused about the rocket equations, here we show how to get to them. \n",
    "\n",
    "Newton's second law states that the acceleration of the vehicle times its mass is equal to all the forces acting on it. Therefore,\n",
    "\n",
    "\\begin{equation}\n",
    "(m_s + m_p)\\frac{d\\bf{v}}{dt}=\\sum {\\bf F}.\n",
    "\\end{equation}\n",
    "In the above formula we have assumed that the propellant inside the rocket and the rocket move at the same velocity (in other words, their relative velocity is negligible). \n",
    "\n",
    "Two of the external forces acting on the rocket are,\n",
    "\n",
    "\\begin{align}\n",
    "{\\bf F}_g&= (m_s+m_p)\\bf{g} \\quad (\\rm{Gravity}),\\\\\n",
    "{\\bf F}_d&= - \\frac{1}{2} \\rho_a \\mathbf{v} |\\mathbf{v}| A  C_D \\quad (\\rm{Drag}).\n",
    "\\end{align}\n",
    "\n",
    "We also need to consider the force resulting from the ejection of the propellant. During an interval $dt$, the engine of the rocket ejects downwards a mass of propellant given by $\\dot m_p dt$. Relative to the rocket, the speed of the ejected burning gas is assumed constant and equal to $v_e$ (the exhaust speed). The momentum variation induced on the exhaust gas by the engine during that interval is therefore, $d{\\bf p}_{gas} = \\dot m_p {\\bf v}_e dt$. Again using Newton's second law we conclude that the force applied by the rocket on the gas is,\n",
    "\n",
    "\\begin{align}\n",
    "{\\bf F}_{rocket\\rightarrow gas} = \\frac{d{\\bf p}_{gas}}{dt} = \\dot m_p {\\bf v}_e\n",
    "\\end{align}\n",
    "\n",
    "Using Newton's third law (|action| = |reaction|), the force exerted by the exhaust gas on the rocket is then,\n",
    "\n",
    "\\begin{align}\n",
    "{\\bf F}_{gas\\rightarrow rocket} = -{\\bf F}_{rocket\\rightarrow gas} = -\\dot m_p {\\bf v}_e\n",
    "\\end{align}\n",
    "\n",
    "If we collect all the forces acting on the rocket we finally have:\n",
    "\n",
    "\\begin{align}\n",
    "(m_s + m_p)\\frac{d\\bf{v}}{dt}=(m_s+m_p){\\bf g}- \\frac{1}{2} \\rho_a \\mathbf{v} |v| A  C_D -\\dot m_p {\\bf v}_e\n",
    "\\end{align}\n",
    "\n"
   ]
  },
  {
   "cell_type": "markdown",
   "metadata": {},
   "source": [
    "## Initial value Problem"
   ]
  },
  {
   "cell_type": "markdown",
   "metadata": {},
   "source": [
    "### Load the modules and libraries that we need for this problem"
   ]
  },
  {
   "cell_type": "code",
   "execution_count": 1,
   "metadata": {},
   "outputs": [],
   "source": [
    "from math import sin, cos, log, ceil, pi\n",
    "import numpy\n",
    "from matplotlib import pyplot\n",
    "%matplotlib inline\n",
    "from matplotlib import rcParams\n",
    "rcParams['font.family'] = 'serif'\n",
    "rcParams['font.size'] = 16"
   ]
  },
  {
   "cell_type": "markdown",
   "metadata": {},
   "source": [
    "### Set things up to start our numerical solution"
   ]
  },
  {
   "cell_type": "code",
   "execution_count": 2,
   "metadata": {},
   "outputs": [],
   "source": [
    "# model parameters:\n",
    "g = 9.81      # gravity in m s^{-2}\n",
    "M_S = 50     # weight of rocket shell\n",
    "rho = 1.091  # average air density\n",
    "r = 0.5      # cross sectional radius of rocket\n",
    "A = numpy.pi * r**2  # max. cross sectional radius of rocket\n",
    "V_E = 325   # exhaust speed\n",
    "C_D = 0.15   # drag coefficient --- or D/L if C_L=1\n",
    "\n",
    "### set initial conditions ###\n",
    "H0 = 0\n",
    "V0 = 0\n",
    "M_P0 = 100  # initial weight of rocket propellant\n"
   ]
  },
  {
   "cell_type": "markdown",
   "metadata": {},
   "source": [
    "### Define a function f() to match the right-hand side of our equations"
   ]
  },
  {
   "cell_type": "code",
   "execution_count": 3,
   "metadata": {},
   "outputs": [],
   "source": [
    "def f(u, params):\n",
    "    \"\"\"Returns the right-hand side of the rocket system of equations.\n",
    "    \n",
    "    Parameters\n",
    "    ----------\n",
    "    u : array of float\n",
    "        array containing the solution at time n.\n",
    "        \n",
    "    Returns\n",
    "    -------\n",
    "    dudt : array of float\n",
    "        array containing the RHS given u.\n",
    "    \"\"\"\n",
    "    # extract params\n",
    "    dt = params[0]\n",
    "    V_E = params[1]\n",
    "    g = params[2]\n",
    "    rho = params[3]\n",
    "    C_D = params[4]\n",
    "    m_s = params[5]\n",
    "    \n",
    "    # extract n-step values\n",
    "    h = u[0]\n",
    "    v = u[1]    \n",
    "    m_p = u[2]  \n",
    "    \n",
    "    # if there is still some propellant to combust\n",
    "    if m_p > 0:\n",
    "        dmp =  20 # decrease the mass of the propellant\n",
    "    else:\n",
    "        dmp = 0\n",
    "       \n",
    "    # total mass        \n",
    "    m_t = m_p + m_s        \n",
    "    \n",
    "    # return the \"gerivatives\"\n",
    "    return numpy.array([v,\n",
    "                      (-g*m_t + dmp*V_E - 0.5*rho*v*numpy.abs(v)*A*C_D) / m_t,\n",
    "                       -dmp])"
   ]
  },
  {
   "cell_type": "markdown",
   "metadata": {},
   "source": [
    "### Euler's method is implemented in a simple function"
   ]
  },
  {
   "cell_type": "code",
   "execution_count": 4,
   "metadata": {},
   "outputs": [],
   "source": [
    "def euler_step(u, f, params):\n",
    "    \"\"\"Returns the solution at the next time-step using Euler's method.\n",
    "    \n",
    "    Parameters\n",
    "    ----------\n",
    "    u : array of float\n",
    "        solution at the previous time-step.\n",
    "    f : function\n",
    "        function to compute the right hand-side of the system of equation.\n",
    "    dt : float\n",
    "        time-increment.\n",
    "    \n",
    "    Returns\n",
    "    -------\n",
    "    u_n_plus_1 : array of float\n",
    "        approximate solution at the next time step.\n",
    "    \"\"\"\n",
    "    dt = params[0]\n",
    "    \n",
    "    return u + dt * f(u, params)"
   ]
  },
  {
   "cell_type": "markdown",
   "metadata": {},
   "source": [
    "### Construct the grid"
   ]
  },
  {
   "cell_type": "code",
   "execution_count": 5,
   "metadata": {},
   "outputs": [],
   "source": [
    "T = 40                          # final time\n",
    "dt = 0.1                           # time increment\n",
    "N = int(T/dt) + 1                  # number of time-steps\n",
    "t = numpy.linspace(0, T, N)      # time discretization\n",
    "\n",
    "# initialize the array containing the solution for each time-step\n",
    "u = numpy.empty((N, 3))\n",
    "u[0] = numpy.array([H0, V0, M_P0])# fill 1st element with initial values\n",
    "\n",
    "params = [dt, V_E, g, rho, C_D, M_S]\n",
    "\n",
    "\n",
    "# time loop - Euler method\n",
    "for n in range(0, N-1):  \n",
    "    u[n+1] = euler_step(u[n], f, params)\n",
    "    \n",
    "    "
   ]
  },
  {
   "cell_type": "markdown",
   "metadata": {},
   "source": [
    "## Plot the trajectory"
   ]
  },
  {
   "cell_type": "markdown",
   "metadata": {},
   "source": [
    "### get the rocket's position with respect to the time"
   ]
  },
  {
   "cell_type": "code",
   "execution_count": 6,
   "metadata": {},
   "outputs": [],
   "source": [
    "h = u[:,0];\n",
    "v = u[:,1];\n",
    "m = u[:,2] + M_S;"
   ]
  },
  {
   "cell_type": "markdown",
   "metadata": {},
   "source": [
    "### Time to plot the height of the rocket"
   ]
  },
  {
   "cell_type": "code",
   "execution_count": 7,
   "metadata": {},
   "outputs": [
    {
     "data": {
      "image/png": "[encoded data removed]",
      "text/plain": [
       "<Figure size 576x432 with 1 Axes>"
      ]
     },
     "metadata": {},
     "output_type": "display_data"
    }
   ],
   "source": [
    "# visualization of the height\n",
    "pyplot.figure(figsize=(8,6))\n",
    "pyplot.grid(True)\n",
    "pyplot.xlabel(r't', fontsize=18)\n",
    "pyplot.ylabel(r'h', fontsize=18)\n",
    "pyplot.title('Rocket height, flight time = %.2f' % T, fontsize=18)\n",
    "pyplot.plot(t,h, 'k-', lw=2);"
   ]
  },
  {
   "cell_type": "markdown",
   "metadata": {},
   "source": [
    "### Time to plot the velocity of the rocket"
   ]
  },
  {
   "cell_type": "code",
   "execution_count": 8,
   "metadata": {},
   "outputs": [
    {
     "data": {
      "image/png": "[encoded data removed]",
      "text/plain": [
       "<Figure size 576x432 with 1 Axes>"
      ]
     },
     "metadata": {},
     "output_type": "display_data"
    }
   ],
   "source": [
    "# visualization of the velocity\n",
    "pyplot.figure(figsize=(8,6))\n",
    "pyplot.grid(True)\n",
    "pyplot.xlabel(r't', fontsize=18)\n",
    "pyplot.ylabel(r'v', fontsize=18)\n",
    "pyplot.title('Rocket velocity, flight time = %.2f' % T, fontsize=18)\n",
    "pyplot.plot(t,v, 'k-', lw=2);"
   ]
  },
  {
   "cell_type": "markdown",
   "metadata": {},
   "source": [
    "### Time to plot the mass of the rocket"
   ]
  },
  {
   "cell_type": "code",
   "execution_count": 9,
   "metadata": {},
   "outputs": [
    {
     "data": {
      "image/png": "[encoded data removed]",
      "text/plain": [
       "<Figure size 576x432 with 1 Axes>"
      ]
     },
     "metadata": {},
     "output_type": "display_data"
    }
   ],
   "source": [
    "# visualization of the mass\n",
    "pyplot.figure(figsize=(8,6))\n",
    "pyplot.grid(True)\n",
    "pyplot.xlabel(r't', fontsize=18)\n",
    "pyplot.ylabel(r'm', fontsize=18)\n",
    "pyplot.title('Rocket mass, flight time = %.2f' % T, fontsize=18)\n",
    "pyplot.plot(t,m, 'k-', lw=2);"
   ]
  },
  {
   "cell_type": "markdown",
   "metadata": {},
   "source": [
    "## Assessment:\n",
    "\n",
    "To check your answers, you can register for [MAE 6286: Practical Numerical Methods with Python](http://openedx.seas.gwu.edu/courses/GW/MAE6286/2014_fall/about).\n",
    "\n",
    "1. At time $t=3.2s$, what is the mass (in kg) of rocket propellant remaining in the rocket?\n",
    "\n",
    "2. What is the maximum speed of the rocket in $\\frac{m}{s}$?\n",
    "    At what time does this occur (in seconds)? \n",
    "    What is the altitude at this time (in meters)? \n",
    "    \n",
    "3. What is the rocket's maximum altitude during flight (in meters)? At what time (in seconds) does this occur?\n",
    "\n",
    "4. At what time (in seconds) does the rocket impact the ground? What is the velocity of the rocket (in $\\frac{m}{s}$) at time of impact?"
   ]
  },
  {
   "cell_type": "code",
   "execution_count": 10,
   "metadata": {},
   "outputs": [
    {
     "name": "stdout",
     "output_type": "stream",
     "text": [
      "('mass of remaing propellant= ', 36.0)\n"
     ]
    }
   ],
   "source": [
    "print('mass of remaing propellant= ', 100 - 20*dt*32)"
   ]
  },
  {
   "cell_type": "code",
   "execution_count": 11,
   "metadata": {},
   "outputs": [
    {
     "name": "stdout",
     "output_type": "stream",
     "text": [
      "('vel = ', -7.075229108737369)\n",
      "('height = ', 1331.9698770251464)\n",
      "('time = ', 16.400000000000002)\n"
     ]
    }
   ],
   "source": [
    "index = numpy.where(v < 0.00001)\n",
    "#print(index)\n",
    "print('vel = ', v[164])\n",
    "print('height = ', h[164])\n",
    "print('time = ', t[164])"
   ]
  },
  {
   "cell_type": "code",
   "execution_count": 12,
   "metadata": {},
   "outputs": [
    {
     "name": "stdout",
     "output_type": "stream",
     "text": [
      "('max vel = ', 232.10613341261794)\n",
      "('time = ', array([5.]))\n",
      "('height = ', array([523.52283429]))\n"
     ]
    }
   ],
   "source": [
    "print('max vel = ', max(v))\n",
    "index = numpy.where(v == max(v))\n",
    "print('time = ', t[index])\n",
    "print('height = ', h[index])"
   ]
  },
  {
   "cell_type": "code",
   "execution_count": 13,
   "metadata": {},
   "outputs": [
    {
     "name": "stdout",
     "output_type": "stream",
     "text": [
      "('max h = ', 1334.1829454303072)\n",
      "('time = ', array([15.7]))\n"
     ]
    }
   ],
   "source": [
    "print('max h = ', max(h))\n",
    "index = numpy.where(h == max(h))\n",
    "print('time = ', t[index])"
   ]
  },
  {
   "cell_type": "code",
   "execution_count": 14,
   "metadata": {},
   "outputs": [
    {
     "name": "stdout",
     "output_type": "stream",
     "text": [
      "('time = ', 37.1)\n",
      "('vel = ', -86.00683498380592)\n"
     ]
    }
   ],
   "source": [
    "index = numpy.where(h < 0.0000001)\n",
    "#print('index = ', index)\n",
    "print('time = ', t[371])\n",
    "print('vel = ', v[371])"
   ]
  },
  {
   "cell_type": "markdown",
   "metadata": {},
   "source": [
    "---\n",
    "\n",
    "###### The cell below loads the style of the notebook."
   ]
  },
  {
   "cell_type": "code",
   "execution_count": 16,
   "metadata": {},
   "outputs": [
    {
     "data": {
      "text/html": [
       "<link href='http://fonts.googleapis.com/css?family=Alegreya+Sans:100,300,400,500,700,800,900,100italic,300italic,400italic,500italic,700italic,800italic,900italic' rel='stylesheet' type='text/css'>\n",
       "<link href='http://fonts.googleapis.com/css?family=Arvo:400,700,400italic' rel='stylesheet' type='text/css'>\n",
       "<link href='http://fonts.googleapis.com/css?family=PT+Mono' rel='stylesheet' type='text/css'>\n",
       "<link href='http://fonts.googleapis.com/css?family=Shadows+Into+Light' rel='stylesheet' type='text/css'>\n",
       "<link href='http://fonts.googleapis.com/css?family=Nixie+One' rel='stylesheet' type='text/css'>\n",
       "<link href='https://fonts.googleapis.com/css?family=Source+Code+Pro' rel='stylesheet' type='text/css'>\n",
       "<style>\n",
       "\n",
       "@font-face {\n",
       "    font-family: \"Computer Modern\";\n",
       "    src: url('http://mirrors.ctan.org/fonts/cm-unicode/fonts/otf/cmunss.otf');\n",
       "}\n",
       "\n",
       "#notebook_panel { /* main background */\n",
       "    background: rgb(245,245,245);\n",
       "}\n",
       "\n",
       "div.cell { /* set cell width */\n",
       "    width: 750px;\n",
       "}\n",
       "\n",
       "div #notebook { /* centre the content */\n",
       "    background: #fff; /* white background for content */\n",
       "    width: 1000px;\n",
       "    margin: auto;\n",
       "    padding-left: 0em;\n",
       "}\n",
       "\n",
       "#notebook li { /* More space between bullet points */\n",
       "    margin-top:0.8em;\n",
       "}\n",
       "\n",
       "/* draw border around running cells */\n",
       "div.cell.border-box-sizing.code_cell.running { \n",
       "    border: 1px solid #111;\n",
       "}\n",
       "\n",
       "/* Put a solid color box around each cell and its output, visually linking them*/\n",
       "div.cell.code_cell {\n",
       "    background-color: rgb(256,256,256); \n",
       "    border-radius: 0px; \n",
       "    padding: 0.5em;\n",
       "    margin-left:1em;\n",
       "    margin-top: 1em;\n",
       "}\n",
       "\n",
       "div.text_cell_render{\n",
       "    font-family: 'Alegreya Sans' sans-serif;\n",
       "    line-height: 140%;\n",
       "    font-size: 125%;\n",
       "    font-weight: 400;\n",
       "    width:600px;\n",
       "    margin-left:auto;\n",
       "    margin-right:auto;\n",
       "}\n",
       "\n",
       "\n",
       "/* Formatting for header cells */\n",
       ".text_cell_render h1 {\n",
       "    font-family: 'Nixie One', serif;\n",
       "    font-style:regular;\n",
       "    font-weight: 400;    \n",
       "    font-size: 45pt;\n",
       "    line-height: 100%;\n",
       "    color: rgb(0,51,102);\n",
       "    margin-bottom: 0.5em;\n",
       "    margin-top: 0.5em;\n",
       "    display: block;\n",
       "}\n",
       "\n",
       ".text_cell_render h2 {\n",
       "    font-family: 'Nixie One', serif;\n",
       "    font-weight: 400;\n",
       "    font-size: 30pt;\n",
       "    line-height: 100%;\n",
       "    color: rgb(0,51,102);\n",
       "    margin-bottom: 0.1em;\n",
       "    margin-top: 0.3em;\n",
       "    display: block;\n",
       "}\t\n",
       "\n",
       ".text_cell_render h3 {\n",
       "    font-family: 'Nixie One', serif;\n",
       "    margin-top:16px;\n",
       "    font-size: 22pt;\n",
       "    font-weight: 600;\n",
       "    margin-bottom: 3px;\n",
       "    font-style: regular;\n",
       "    color: rgb(102,102,0);\n",
       "}\n",
       "\n",
       ".text_cell_render h4 {    /*Use this for captions*/\n",
       "    font-family: 'Nixie One', serif;\n",
       "    font-size: 14pt;\n",
       "    text-align: center;\n",
       "    margin-top: 0em;\n",
       "    margin-bottom: 2em;\n",
       "    font-style: regular;\n",
       "}\n",
       "\n",
       ".text_cell_render h5 {  /*Use this for small titles*/\n",
       "    font-family: 'Nixie One', sans-serif;\n",
       "    font-weight: 400;\n",
       "    font-size: 16pt;\n",
       "    color: rgb(163,0,0);\n",
       "    font-style: italic;\n",
       "    margin-bottom: .1em;\n",
       "    margin-top: 0.8em;\n",
       "    display: block;\n",
       "}\n",
       "\n",
       ".text_cell_render h6 { /*use this for copyright note*/\n",
       "    font-family: 'PT Mono', sans-serif;\n",
       "    font-weight: 300;\n",
       "    font-size: 9pt;\n",
       "    line-height: 100%;\n",
       "    color: grey;\n",
       "    margin-bottom: 1px;\n",
       "    margin-top: 1px;\n",
       "}\n",
       "\n",
       ".CodeMirror{\n",
       "    font-family: \"Source Code Pro\";\n",
       "    font-size: 90%;\n",
       "}\n",
       "\n",
       ".alert-box {\n",
       "    padding:10px 10px 10px 36px;\n",
       "    margin:5px;\n",
       "}\n",
       "\n",
       ".success {\n",
       "    color:#666600;\n",
       "    background:rgb(240,242,229);\n",
       "}\n",
       "</style>\n",
       "<script>\n",
       "    MathJax.Hub.Config({\n",
       "                        TeX: {\n",
       "                           extensions: [\"AMSmath.js\"],\n",
       "                           equationNumbers: { autoNumber: \"AMS\", useLabelIds: true}\n",
       "                           },\n",
       "                tex2jax: {\n",
       "                    inlineMath: [ ['$','$'], [\"\\\\(\",\"\\\\)\"] ],\n",
       "                    displayMath: [ ['$$','$$'], [\"\\\\[\",\"\\\\]\"] ]\n",
       "                },\n",
       "                displayAlign: 'center', // Change this to 'center' to center equations.\n",
       "                \"HTML-CSS\": {\n",
       "                    styles: {'.MathJax_Display': {\"margin\": 4}}\n",
       "                }\n",
       "        });\n",
       "</script>\n"
      ],
      "text/plain": [
       "<IPython.core.display.HTML object>"
      ]
     },
     "execution_count": 16,
     "metadata": {},
     "output_type": "execute_result"
    }
   ],
   "source": [
    "from IPython.core.display import HTML\n",
    "css_file = './styles/numericalmoocstyle.css'\n",
    "HTML(open(css_file, \"r\").read())"
   ]
  },
  {
   "cell_type": "code",
   "execution_count": null,
   "metadata": {
    "collapsed": true
   },
   "outputs": [],
   "source": []
  }
 ],
 "metadata": {
  "anaconda-cloud": {},
  "kernelspec": {
   "display_name": "Python 2",
   "language": "python",
   "name": "python2"
  },
  "language_info": {
   "codemirror_mode": {
    "name": "ipython",
    "version": 2
   },
   "file_extension": ".py",
   "mimetype": "text/x-python",
   "name": "python",
   "nbconvert_exporter": "python",
   "pygments_lexer": "ipython2",
   "version": "2.7.12"
  }
 },
 "nbformat": 4,
 "nbformat_minor": 1
}
