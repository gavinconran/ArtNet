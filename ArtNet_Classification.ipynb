{
 "cells": [
  {
   "cell_type": "markdown",
   "metadata": {},
   "source": [
    "# Classification: Art Recognition with TensorFlow and Inception v3/ResNet50\n",
    "\n",
    "In this example we'll classify an image with the fine-tuned Inception v3 / ResNet50 ArtNet model.\n"
   ]
  },
  {
   "cell_type": "markdown",
   "metadata": {},
   "source": [
    "### Set-up"
   ]
  },
  {
   "cell_type": "code",
   "execution_count": null,
   "metadata": {},
   "outputs": [],
   "source": [
    "from __future__ import absolute_import\n",
    "from __future__ import division\n",
    "from __future__ import print_function\n",
    "\n",
    "import argparse\n",
    "import sys\n",
    "\n",
    "import numpy as np\n",
    "import tensorflow as tf\n",
    "\n",
    "# set up Python environment: numpy for numerical routines, and matplotlib for plotting\n",
    "import numpy as np\n",
    "import matplotlib.pyplot as plt\n",
    "import matplotlib.image as mpimg\n",
    "# display plots in this notebook\n",
    "%matplotlib inline\n",
    "\n",
    "# set display defaults\n",
    "#plt.rcParams['figure.figsize'] = (10, 10)        # large images\n",
    "plt.rcParams['image.interpolation'] = 'nearest'  # don't interpolate: show square pixels\n",
    "plt.rcParams['image.cmap'] = 'gray'  # use grayscale output rather than a (potentially misleading) color heatmap"
   ]
  },
  {
   "cell_type": "markdown",
   "metadata": {},
   "source": [
    "### Helper: Load Graph"
   ]
  },
  {
   "cell_type": "code",
   "execution_count": null,
   "metadata": {},
   "outputs": [],
   "source": [
    "def load_graph(model_file):\n",
    "  graph = tf.Graph()\n",
    "  graph_def = tf.GraphDef()\n",
    "\n",
    "  with open(model_file, \"rb\") as f:\n",
    "    graph_def.ParseFromString(f.read())\n",
    "  with graph.as_default():\n",
    "    tf.import_graph_def(graph_def)\n",
    "\n",
    "  return graph"
   ]
  },
  {
   "cell_type": "markdown",
   "metadata": {},
   "source": [
    "### Helper: Read tensor From Image File"
   ]
  },
  {
   "cell_type": "code",
   "execution_count": null,
   "metadata": {},
   "outputs": [],
   "source": [
    "def read_tensor_from_image_file(file_name,\n",
    "                                input_height=299,\n",
    "                                input_width=299,\n",
    "                                input_mean=0,\n",
    "                                input_std=255):\n",
    "  input_name = \"file_reader\"\n",
    "  output_name = \"normalized\"\n",
    "  file_reader = tf.read_file(file_name, input_name)\n",
    "  if file_name.endswith(\".png\"):\n",
    "    image_reader = tf.image.decode_png(\n",
    "        file_reader, channels=3, name=\"png_reader\")\n",
    "  elif file_name.endswith(\".gif\"):\n",
    "    image_reader = tf.squeeze(\n",
    "        tf.image.decode_gif(file_reader, name=\"gif_reader\"))\n",
    "  elif file_name.endswith(\".bmp\"):\n",
    "    image_reader = tf.image.decode_bmp(file_reader, name=\"bmp_reader\")\n",
    "  else:\n",
    "    image_reader = tf.image.decode_jpeg(\n",
    "        file_reader, channels=3, name=\"jpeg_reader\")\n",
    "  float_caster = tf.cast(image_reader, tf.float32)\n",
    "  dims_expander = tf.expand_dims(float_caster, 0)\n",
    "  resized = tf.image.resize_bilinear(dims_expander, [input_height, input_width])\n",
    "  normalized = tf.divide(tf.subtract(resized, [input_mean]), [input_std])\n",
    "  sess = tf.Session()\n",
    "  result = sess.run(normalized)\n",
    "\n",
    "  return result"
   ]
  },
  {
   "cell_type": "markdown",
   "metadata": {},
   "source": [
    "### Helper: Load labels"
   ]
  },
  {
   "cell_type": "code",
   "execution_count": null,
   "metadata": {},
   "outputs": [],
   "source": [
    "def load_labels(label_file):\n",
    "  label = []\n",
    "  proto_as_ascii_lines = tf.gfile.GFile(label_file).readlines()\n",
    "  for l in proto_as_ascii_lines:\n",
    "    label.append(l.rstrip())\n",
    "  return label"
   ]
  },
  {
   "cell_type": "markdown",
   "metadata": {},
   "source": [
    "### Set Parameters & Load Graph"
   ]
  },
  {
   "cell_type": "code",
   "execution_count": null,
   "metadata": {},
   "outputs": [],
   "source": [
    "model_file = \"./models/output_graph.pb\"\n",
    "label_file = \"./models/output_labels.txt\"\n",
    "input_height = 224\n",
    "input_width = 224\n",
    "input_mean = 0\n",
    "input_std = 255\n",
    "input_layer = \"Placeholder\"\n",
    "output_layer = \"final_result\"\n",
    "\n",
    "graph = load_graph(model_file)\n"
   ]
  },
  {
   "cell_type": "markdown",
   "metadata": {},
   "source": [
    "### Test Data"
   ]
  },
  {
   "cell_type": "code",
   "execution_count": null,
   "metadata": {},
   "outputs": [],
   "source": [
    "fileNames = ['./dataPaperTest/1500_TheTransfiguration_Raphael.jpeg',\n",
    "             './dataPaperTest/1653_Rembrandt_Aristotle_with_a_Bust_of_Homer.jpg',\n",
    "             './dataPaperTest/1715_Jean-Antoine Watteau_FetesVentiennes.jpeg',\n",
    "            './dataPaperTest/1812_Jacques-Louis David_Napoleon.jpeg',\n",
    "            './dataPaperTest/1833_Joseph_Mallord_William_Turner_-_A_Disaster_at_Sea.jpg',\n",
    "            './dataPaperTest/1869_Edgar Degas_Interior.jpeg',\n",
    "            './dataPaperTest/1857_Hiroshige_One Hundred Famous Views of Edo _Yoroi Ferry in Koami-cho.jpeg',\n",
    "            './dataPaperTest/1888_VanGogh_the-rocks.jpg'\n",
    "            ]"
   ]
  },
  {
   "cell_type": "markdown",
   "metadata": {},
   "source": [
    "### Run Tests"
   ]
  },
  {
   "cell_type": "code",
   "execution_count": null,
   "metadata": {},
   "outputs": [],
   "source": [
    "for file_name in fileNames:\n",
    "      t = read_tensor_from_image_file(\n",
    "          file_name,\n",
    "          input_height=input_height,\n",
    "          input_width=input_width,\n",
    "          input_mean=input_mean,\n",
    "          input_std=input_std)\n",
    "\n",
    "      input_name = \"import/\" + input_layer\n",
    "      output_name = \"import/\" + output_layer\n",
    "      input_operation = graph.get_operation_by_name(input_name)\n",
    "      output_operation = graph.get_operation_by_name(output_name)\n",
    "\n",
    "      with tf.Session(graph=graph) as sess:\n",
    "        results = sess.run(output_operation.outputs[0], {\n",
    "            input_operation.outputs[0]: t\n",
    "        })\n",
    "      results = np.squeeze(results)\n",
    "\n",
    "      top_k = results.argsort()[-3:][::-1]  ## -9 was changed from -5 \n",
    "      labels = load_labels(label_file)\n",
    "      print(\"###############################################\")\n",
    "      print('file Name: ' + file_name) \n",
    "    \n",
    "      for i in top_k:\n",
    "        percent = results[i] * 100\n",
    "        percent = '%05.2f' % (percent,)    \n",
    "        print(labels[i].title() + \": \" + str(percent) + \"%\")"
   ]
  },
  {
   "cell_type": "markdown",
   "metadata": {},
   "source": [
    "## Examine intermediate output"
   ]
  },
  {
   "cell_type": "markdown",
   "metadata": {},
   "source": [
    "### Final Probability Output"
   ]
  },
  {
   "cell_type": "code",
   "execution_count": null,
   "metadata": {},
   "outputs": [],
   "source": [
    "fileNames = ['./dataPaperTest/1812_Jacques-Louis David_Napoleon.jpeg']\n",
    "image=mpimg.imread(fileNames[0])\n",
    "plt.imshow(image)"
   ]
  },
  {
   "cell_type": "code",
   "execution_count": null,
   "metadata": {},
   "outputs": [],
   "source": [
    "for file_name in fileNames:\n",
    "      t = read_tensor_from_image_file(\n",
    "          file_name,\n",
    "          input_height=input_height,\n",
    "          input_width=input_width,\n",
    "          input_mean=input_mean,\n",
    "          input_std=input_std)\n",
    "\n",
    "      input_name = \"import/\" + input_layer\n",
    "      output_name = \"import/\" + output_layer\n",
    "      input_operation = graph.get_operation_by_name(input_name)\n",
    "      output_operation = graph.get_operation_by_name(output_name)\n",
    "\n",
    "      with tf.Session(graph=graph) as sess:\n",
    "        results = sess.run(output_operation.outputs[0], {\n",
    "            input_operation.outputs[0]: t\n",
    "        })\n",
    "      results = np.squeeze(results)\n",
    "\n",
    "      top_k = results.argsort()[-9:][::-1]  ## -9 was changed from -5 \n",
    "      labels = load_labels(label_file)\n",
    "      print(labels)\n",
    "        \n",
    "      plt.figure(figsize=(15, 3))\n",
    "      plt.plot(results)  "
   ]
  },
  {
   "cell_type": "code",
   "execution_count": null,
   "metadata": {},
   "outputs": [],
   "source": [
    "results"
   ]
  },
  {
   "cell_type": "code",
   "execution_count": null,
   "metadata": {},
   "outputs": [],
   "source": []
  }
 ],
 "metadata": {
  "kernelspec": {
   "display_name": "Python 2",
   "language": "python",
   "name": "python2"
  },
  "language_info": {
   "codemirror_mode": {
    "name": "ipython",
    "version": 2
   },
   "file_extension": ".py",
   "mimetype": "text/x-python",
   "name": "python",
   "nbconvert_exporter": "python",
   "pygments_lexer": "ipython2",
   "version": "2.7.12"
  }
 },
 "nbformat": 4,
 "nbformat_minor": 2
}
