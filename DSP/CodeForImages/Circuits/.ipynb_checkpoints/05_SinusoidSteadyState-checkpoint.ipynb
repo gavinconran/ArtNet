{
 "cells": [
  {
   "cell_type": "markdown",
   "metadata": {},
   "source": [
    "# Sinusoid Steady State (SSS)"
   ]
  },
  {
   "cell_type": "markdown",
   "metadata": {},
   "source": [
    "### Set up"
   ]
  },
  {
   "cell_type": "code",
   "execution_count": null,
   "metadata": {},
   "outputs": [],
   "source": [
    "import numpy as np\n",
    "import math\n",
    "import matplotlib.pyplot as plt\n",
    "import matplotlib as mpl\n",
    "from scipy import signal\n",
    "mpl.style.use('classic')"
   ]
  },
  {
   "cell_type": "markdown",
   "metadata": {},
   "source": [
    "## Differential Equation plus Complex Voltage Input (S for Sneaky) Method for RC cct (LPF)"
   ]
  },
  {
   "cell_type": "markdown",
   "metadata": {},
   "source": [
    "### Actual Input"
   ]
  },
  {
   "cell_type": "code",
   "execution_count": null,
   "metadata": {},
   "outputs": [],
   "source": [
    "def Vi_Fun(Vi, w, t):\n",
    "    '''\n",
    "    Vi is the input voltage in volts\n",
    "    w is frequency of sneaky input voltage (s = jw) in radians\n",
    "    t is time in seconds\n",
    "    returns actual input in volts\n",
    "    '''\n",
    "    return Vi * np.cos(w*t)"
   ]
  },
  {
   "cell_type": "markdown",
   "metadata": {},
   "source": [
    "### Sneaky Complex input driver for Particular Solution"
   ]
  },
  {
   "cell_type": "code",
   "execution_count": null,
   "metadata": {},
   "outputs": [],
   "source": [
    "# complex response to complex input\n",
    "def Vps_Fun(Vi, w, R, C):\n",
    "    '''\n",
    "    Vi is the input voltage in volts\n",
    "    w is frequency of sneaky input voltage (s = jw) in radians\n",
    "    R is the Resistance in ohms\n",
    "    C is the Capicatance in farads\n",
    "    returns circuit voltage complex response to sneaky input in volts\n",
    "    '''\n",
    "    return Vi / (1 + j * w * R * C)"
   ]
  },
  {
   "cell_type": "markdown",
   "metadata": {},
   "source": [
    "### Real Response to (Sneaky) Complex input"
   ]
  },
  {
   "cell_type": "code",
   "execution_count": null,
   "metadata": {},
   "outputs": [],
   "source": [
    "# Magnitude\n",
    "def Real_Mag(Vi, w, R, C):\n",
    "    '''\n",
    "    Vi is the input voltage in volts\n",
    "    w is frequency of sneaky input voltage (s = jw) in radians\n",
    "    R is the Resistance in ohms\n",
    "    C is the Capicatance in farads\n",
    "    returns Real Magnitude of Vp\n",
    "    '''\n",
    "    return Vi / np.sqrt(1 + w**2 * R**2 * C**2)\n",
    "\n",
    "# Phase\n",
    "def Real_Phase(w, R, C):\n",
    "    '''\n",
    "    w is frequency of sneaky input voltage (s = jw) in radians\n",
    "    R is the Resistance in ohms\n",
    "    C is the Capicatance in farads\n",
    "    returns Real Phase of Vp\n",
    "    '''\n",
    "    return np.arctan(-w * R * C)"
   ]
  },
  {
   "cell_type": "code",
   "execution_count": null,
   "metadata": {},
   "outputs": [],
   "source": [
    "# real response to complex input\n",
    "def Vp_Fun(Vi, w, R, C, t):\n",
    "    '''\n",
    "    Vi is the input voltage in volts\n",
    "    w is frequency of sneaky input voltage (s = jw) in radians\n",
    "    R is the Resistance in ohms\n",
    "    C is the Capicatance in farads\n",
    "    t is time in seconds\n",
    "    returns circuit voltage complex response to sneaky input in volts\n",
    "    '''\n",
    "    Vp_Mag = Real_Mag(Vi, w, R, C)\n",
    "    Vp_Phase = Real_Phase(w, R, C)     \n",
    "    return Vp_Mag * np.cos(w*t + Vp_Phase)"
   ]
  },
  {
   "cell_type": "markdown",
   "metadata": {},
   "source": [
    "### Sinusoidal Steady State"
   ]
  },
  {
   "cell_type": "code",
   "execution_count": null,
   "metadata": {},
   "outputs": [],
   "source": [
    "R = 1000.0 # ohms\n",
    "C = 10*10**(-12) #-12 # farads\n",
    "L = 10*10**-6 # henrys\n",
    "Vi = 5.0 # input voltage in volts\n",
    "\n",
    "w0 = 1.0 / np.sqrt(L*C) # undamped natural (resonant) frequency of circuit (= 1/sqrt(LC))\n",
    "\n",
    "t = np.arange(0, 0.0000003, 0.000000001)\n",
    "Va = Vi_Fun(Vi, w0, t) # actual input\n",
    "Vp = Vp_Fun(Vi, w0, R, C, t) # particular (steady state) output\n",
    "# double the frequency\n",
    "Vp_double = Vp_Fun(Vi, w0 * 2., R, C, t)\n",
    "\n",
    "deg = t * 30.\n",
    "rads = np.radians(deg)"
   ]
  },
  {
   "cell_type": "markdown",
   "metadata": {},
   "source": [
    "### Plot Sinusoidal Input and Steady State Output Signals"
   ]
  },
  {
   "cell_type": "code",
   "execution_count": null,
   "metadata": {},
   "outputs": [],
   "source": [
    "plt.title(\"Sinusoidal Steady State\")\n",
    "plt.ylabel(\"Voltage (volts)\")\n",
    "plt.xlabel(\"Time\")\n",
    "plt.plot(rads, Va, 'blue')\n",
    "plt.plot(rads, Vp, 'green')\n",
    "#plt.plot(rads, Vp_double, 'm')"
   ]
  },
  {
   "cell_type": "markdown",
   "metadata": {},
   "source": [
    "### Frequency Response (Transfer Function |H(jw)|    )"
   ]
  },
  {
   "cell_type": "code",
   "execution_count": null,
   "metadata": {},
   "outputs": [],
   "source": [
    "# Frequency Response: Magnitude\n",
    "def FR_Mag(Vi, w, R, C):\n",
    "    '''\n",
    "    Vi is the input voltage in volts\n",
    "    w is frequency of sneaky input voltage (s = jw) in radians\n",
    "    R is the Resistance in ohms\n",
    "    C is the Capicatance in farads\n",
    "    returns Frequency Response: Magnitude\n",
    "    '''\n",
    "    return np.abs(1 / np.sqrt(1 + w**2 * R**2 * C**2))\n",
    "\n",
    "# Phase\n",
    "def FR_Phase(w, R, C):\n",
    "    '''\n",
    "    w is frequency of sneaky input voltage (s = jw) in radians\n",
    "    R is the Resistance in ohms\n",
    "    C is the Capicatance in farads\n",
    "    returns Frequency Response: Phase\n",
    "    '''\n",
    "    return np.arctan(-w * R * C)"
   ]
  },
  {
   "cell_type": "markdown",
   "metadata": {},
   "source": [
    "### Compute Frquency Response"
   ]
  },
  {
   "cell_type": "code",
   "execution_count": null,
   "metadata": {},
   "outputs": [],
   "source": [
    "breakFreq = 1/(R*C) # break frequency\n",
    "w = np.arange(0, 100 * breakFreq, 10000)\n",
    "FR_Magnitude = FR_Mag(Vi, w, R, C)\n",
    "FR_Phase = FR_Phase(w, R, C)\n",
    "BF_Mag = FR_Mag(Vi, breakFreq, R, C)\n",
    "print(\"Break / Cut-off Frequency: \" + str(breakFreq) + \" Hz\")\n",
    "print(\"Break / Cut-off Frequency: \" + str(breakFreq) + \" Hz\" + \" with Magnitude: \" + str(BF_Mag))"
   ]
  },
  {
   "cell_type": "markdown",
   "metadata": {},
   "source": [
    "### Frequency Response: Magnitude Plot"
   ]
  },
  {
   "cell_type": "code",
   "execution_count": null,
   "metadata": {},
   "outputs": [],
   "source": [
    "plt.title(\"Frequency Response: Magnitude of SSS\")\n",
    "plt.ylabel(\"Magnitude (Log Scale)\")\n",
    "plt.xlabel(\"Frequency (rad/s)\")\n",
    "plt.loglog(w, FR_Magnitude)\n",
    "plt.vlines(x=breakFreq, ymin=0, ymax = BF_Mag, color='r')\n",
    "plt.hlines(y=BF_Mag, xmin = 0, xmax=breakFreq,   color='r')"
   ]
  },
  {
   "cell_type": "markdown",
   "metadata": {},
   "source": [
    "### Frequency Response: Phase Plot"
   ]
  },
  {
   "cell_type": "code",
   "execution_count": null,
   "metadata": {},
   "outputs": [],
   "source": [
    "plt.title(\"Frequency Response: Phase of SSS\")\n",
    "plt.ylabel(\"Phase (radians)\")\n",
    "plt.xlabel(\"Frequency (rad/s) (Log Scale)\")\n",
    "plt.semilogx(w, FR_Phase)"
   ]
  },
  {
   "cell_type": "markdown",
   "metadata": {},
   "source": [
    "## Series RLC cct: Band Pass filter (Impedance Method)"
   ]
  },
  {
   "cell_type": "markdown",
   "metadata": {},
   "source": [
    "### RLC Frequency Response"
   ]
  },
  {
   "cell_type": "code",
   "execution_count": null,
   "metadata": {},
   "outputs": [],
   "source": [
    "# Frequency Response: Magnitude\n",
    "# Transfer Function\n",
    "def FR_Mag_Imp(w, R, C, L):\n",
    "    '''\n",
    "    Vi is the input voltage in volts\n",
    "    w is frequency of sneaky input voltage (s = jw) in radians\n",
    "    R is the Resistance in ohms\n",
    "    C is the Capicatance in farads\n",
    "    L is the impedance in henrys    \n",
    "    returns Frequency Response: Magnitude from Transfer Function\n",
    "    '''\n",
    "    numerator = w * R * C\n",
    "    denominator = np.sqrt( (1 - w**2 * L * C)**2 + (w*R*C)**2) \n",
    "    return np.abs(numerator / denominator)\n"
   ]
  },
  {
   "cell_type": "markdown",
   "metadata": {},
   "source": [
    "### Complex Magnitude Vr"
   ]
  },
  {
   "cell_type": "code",
   "execution_count": null,
   "metadata": {},
   "outputs": [],
   "source": [
    "def Vr_Impedance_Fun(Vi, w, R, L, C):\n",
    "    '''\n",
    "    Vi is the input voltage in volts\n",
    "    w is frequency in Hz\n",
    "    R is the Resistance in ohms\n",
    "    C is the Capicatance in farads\n",
    "    L is the impedance in henrys\n",
    "    returns Real Magnitude of Vr\n",
    "    '''\n",
    "    numerator = Vi * (R / L) * (1j * w)\n",
    "    denominator = -w**2 + (R/L)* (1j * w) + 1 /(L*C)\n",
    "    return numerator / denominator "
   ]
  },
  {
   "cell_type": "markdown",
   "metadata": {},
   "source": [
    "### Compute Bandwidth"
   ]
  },
  {
   "cell_type": "code",
   "execution_count": null,
   "metadata": {},
   "outputs": [],
   "source": [
    "def Bandwidth_Fun(magList, wList):\n",
    "    '''\n",
    "    Vi is the input voltage in volts\n",
    "    w is frequency of sneaky input voltage (s = jw) in radians\n",
    "    R is the Resistance in ohms\n",
    "    C is the Capicatance in farads\n",
    "    L is the impedance in henrys    \n",
    "    returns lower and upper range of banwidth in Hz \n",
    "    '''\n",
    "    #[i for i, x in enumerate(lst) if x<a or x>b]\n",
    "    rangeList = [i for i, x in enumerate(magList) if  x > (1. / np.sqrt(2)) - 10**(-3) \\\n",
    "                                         and x < (1. / np.sqrt(2)) + 10**(-3)] # x<a or x>b]\n",
    "    return wList[rangeList[0]], wList[rangeList[-1]]\n",
    "\n",
    "def Bandwidth_Fun_RLC_Series(R, L):\n",
    "    '''\n",
    "    R is the Resistance in ohms\n",
    "    L is the impedance in henrys    \n",
    "    returns the banwidth in Hz \n",
    "    '''\n",
    "    return R / L"
   ]
  },
  {
   "cell_type": "markdown",
   "metadata": {},
   "source": [
    "### Compute RLC Vr (Complex Magnitude of voltage across the Resistor )"
   ]
  },
  {
   "cell_type": "code",
   "execution_count": null,
   "metadata": {},
   "outputs": [],
   "source": [
    "R = 1000.0 #100.0 #1000.0 # ohms\n",
    "C = 10*10**(-13) # farads\n",
    "L = 10*10**-6 # henrys\n",
    "VI = 5.0 # input voltage in volts\n",
    "w0 = 1.0 / np.sqrt(L*C) # undamped natural (resonant) frequency of circuit (= 1/sqrt(LC))\n",
    "\n",
    "Vr_Mag = Vr_Impedance_Fun(VI, w0, R, L, C) # complex magnitude sinusoidal steady state output\n",
    "print(\"Vr (Complex Magnitude) \" + str(Vr_Mag))\n"
   ]
  },
  {
   "cell_type": "markdown",
   "metadata": {},
   "source": [
    "### Compute Frequency Response - Magnitude and Phase"
   ]
  },
  {
   "cell_type": "code",
   "execution_count": null,
   "metadata": {},
   "outputs": [],
   "source": [
    "w = np.arange(0, 10000 * breakFreq, 100000)\n",
    "FR_Magnitude_Imp = FR_Mag_Imp(w, R, C, L) # FR from transfer function\n",
    "\n",
    "FR_Mag_Resonance = FR_Mag_Imp(w0, R, C, L)\n",
    "print(\"Vr (Complex Magnitude) at Resonant Frequency: \" + str(FR_Mag_Resonance))\n"
   ]
  },
  {
   "cell_type": "markdown",
   "metadata": {},
   "source": [
    "### Compute Quality Factor / Selectivity"
   ]
  },
  {
   "cell_type": "code",
   "execution_count": null,
   "metadata": {},
   "outputs": [],
   "source": [
    "# compute selectivity\n",
    "# compute Bandwidth (x-axis range y-avis = 1 / sqrt(2))\n",
    "BW_Series = Bandwidth_Fun_RLC_Series(R, L)\n",
    "Selectivity_Series = w0 / BW_Series\n",
    "lower = w0 - (BW_Series/2.0)\n",
    "upper = w0 + (BW_Series/2.0)\n",
    "print(\"lower: \" + str(lower) + \" Hz\")\n",
    "print(\"upper: \" + str(upper) + \" Hz\")\n",
    "print(\"Bandwidth: \" + str(BW_Series) + \" Hz\")\n",
    "print(\"Resonant Frequency: \" + str(w0))\n",
    "print(\"Selectivity: \" + str(Selectivity_Series))\n",
    "\n",
    "# Recall \n",
    "# Damping Factor, alpha\n",
    "a = R / (2*L) # does alpha have a name? Damping Factor\n",
    "# Quality Factor: number of cycles of 'ringing'\n",
    "Q = w0/(2*a) \n",
    "print(\"Quality Factor: \" + str(Q))\n",
    "\n",
    "### Q is equivalent to Selectivity"
   ]
  },
  {
   "cell_type": "markdown",
   "metadata": {},
   "source": [
    "### Frequency Response: Magnitude Plot with Break Frequency & Bandwidth"
   ]
  },
  {
   "cell_type": "code",
   "execution_count": null,
   "metadata": {},
   "outputs": [],
   "source": [
    "plt.title(\"RLC Frequency Response: Magnitude\")\n",
    "plt.ylabel(\"Magnitude (Log Scale)\")\n",
    "plt.xlabel(\"Frequency (rad / s)\")\n",
    "plt.loglog(w, FR_Magnitude_Imp)\n",
    "plt.vlines(x=w0, ymin=0, ymax = FR_Mag_Resonance, color='r')\n",
    "plt.vlines(x=lower, ymin=0, ymax = 1./np.sqrt(2), color='g')\n",
    "plt.vlines(x=upper, ymin=0, ymax = 1./np.sqrt(2), color='g')\n",
    "#plt.xlim(10**8,10**9)\n",
    "#plt.hlines(y=FR_Mag_Resonance, xmin = 0, xmax=w0,   color='r')"
   ]
  },
  {
   "cell_type": "markdown",
   "metadata": {},
   "source": [
    "## Parallel RLC Circuit: Band Pass Filter"
   ]
  },
  {
   "cell_type": "markdown",
   "metadata": {},
   "source": [
    "### RLC Frequency Response"
   ]
  },
  {
   "cell_type": "code",
   "execution_count": null,
   "metadata": {},
   "outputs": [],
   "source": [
    "# Frequency Response: Magnitude\n",
    "# Transfer Function\n",
    "# Formula taken from S21E3\n",
    "def FR_Mag_Imp_BandPass(w, R, C, L):\n",
    "    '''\n",
    "    Vi is the input voltage in volts\n",
    "    w is frequency of sneaky input voltage (s = jw) in radians\n",
    "    R is the Resistance in ohms\n",
    "    C is the Capicatance in farads\n",
    "    L is the impedance in henrys    \n",
    "    returns Frequency Response: Magnitude from Transfer Function\n",
    "    '''\n",
    "    numerator = 1j * w * L\n",
    "    numMag = w * L # magnitude of numerator\n",
    "    denominator = R -(w**2*L*C*R) + (1j*w*L) \n",
    "    denMag = np.sqrt( (R -(w**2*L*C*R))**2 + (w*L)**2) # magnitude of denominator\n",
    "    return np.abs(numMag / denMag) \n"
   ]
  },
  {
   "cell_type": "markdown",
   "metadata": {},
   "source": [
    "### Compute Frequency Response - Magnitude"
   ]
  },
  {
   "cell_type": "code",
   "execution_count": null,
   "metadata": {},
   "outputs": [],
   "source": [
    "R = 1000.0 # ohms\n",
    "C = 10*10**(-13) # farads\n",
    "L = 10*10**-6 # henrys\n",
    "VI = 5.0 # input voltage in volts\n",
    "w0 = 1.0 / np.sqrt(L*C) # undamped natural (resonant) frequency of circuit (= 1/sqrt(LC))\n",
    "\n",
    "w = np.arange(0, 10000 * breakFreq, 100000)\n",
    "FR_Magnitude_Imp_BandPass = FR_Mag_Imp_BandPass(w, R, C, L) # FR from transfer function\n",
    "\n",
    "FR_Mag_Resonance_BandPass = FR_Mag_Imp_BandPass(w0, R, C, L)\n",
    "print(\"Vr (Complex Magnitude) at Resonant Frequency: \" + str(FR_Mag_Resonance_BandPass))\n",
    "\n",
    "# compute selectivity\n",
    "# compute Bandwidth (x-axis range y-avis = 1 / sqrt(2))\n",
    "lower_P, upper_P = Bandwidth_Fun(FR_Magnitude_Imp_BandPass, w)\n",
    "BW_Parallel = upper_P - lower_P\n",
    "Selectivity_Parallel = w0 / BW_Parallel\n",
    "print(\"lower_P: \" + str(lower_P) + \" Hz\")\n",
    "print(\"upper_P: \" + str(upper_P) + \" Hz\")\n",
    "print(\"Bandwidth: \" + str(BW_Parallel) + \" Hz\")\n",
    "print(\"Resonant Frequency: \" + str(w0))\n",
    "print(\"Selectivity: \" + str(Selectivity_Parallel))\n",
    "\n"
   ]
  },
  {
   "cell_type": "markdown",
   "metadata": {},
   "source": [
    "### Frequency Response: Magnitude Plot with Bandwidth"
   ]
  },
  {
   "cell_type": "code",
   "execution_count": null,
   "metadata": {},
   "outputs": [],
   "source": [
    "plt.title(\"RLC Frequency Response: Magnitude\")\n",
    "plt.ylabel(\"Magnitude (Log Scale)\")\n",
    "plt.xlabel(\"Frequency (rad / s)\")\n",
    "plt.loglog(w, FR_Magnitude_Imp_BandPass)\n",
    "plt.vlines(x=w0, ymin=0, ymax = FR_Mag_Resonance_BandPass, color='r')\n",
    "plt.vlines(x=lower_P, ymin=0, ymax = 1./np.sqrt(2), color='g')\n",
    "plt.vlines(x=upper_P, ymin=0, ymax = 1./np.sqrt(2), color='g')"
   ]
  },
  {
   "cell_type": "code",
   "execution_count": null,
   "metadata": {},
   "outputs": [],
   "source": []
  }
 ],
 "metadata": {
  "kernelspec": {
   "display_name": "Python 2",
   "language": "python",
   "name": "python2"
  },
  "language_info": {
   "codemirror_mode": {
    "name": "ipython",
    "version": 2
   },
   "file_extension": ".py",
   "mimetype": "text/x-python",
   "name": "python",
   "nbconvert_exporter": "python",
   "pygments_lexer": "ipython2",
   "version": "2.7.12"
  }
 },
 "nbformat": 4,
 "nbformat_minor": 2
}
