{
 "cells": [
  {
   "cell_type": "markdown",
   "metadata": {},
   "source": [
    "# Time& Frequency Domain  Analysis"
   ]
  },
  {
   "cell_type": "code",
   "execution_count": null,
   "metadata": {},
   "outputs": [],
   "source": [
    "import numpy as np\n",
    "import math\n",
    "import matplotlib.pyplot as plt\n",
    "import matplotlib as mpl\n",
    "from scipy import signal\n",
    "mpl.style.use('classic')"
   ]
  },
  {
   "cell_type": "markdown",
   "metadata": {},
   "source": [
    "## Three scenaios:  \n",
    "1) Over-damped: a > w0 or Q < 0.5 where Q = w0/(2*a) and 2a = R/L  \n",
    "2) Under-damped: a < w0 or Q > 0.5  \n",
    "3) Critically-damped: a = w0 or Q = 0.5  "
   ]
  },
  {
   "cell_type": "markdown",
   "metadata": {},
   "source": [
    "### Time Domain: Voltage Acoss the Capacitor"
   ]
  },
  {
   "cell_type": "code",
   "execution_count": null,
   "metadata": {},
   "outputs": [],
   "source": [
    "# voltage across the capacitor\n",
    "def voltage_RLC_Cap(VI, w0, a, t):\n",
    "    '''\n",
    "    VI is the input voltage of rising step in volts\n",
    "    t is time in seconds \n",
    "    w0 is the undamped natural angular frequency (or speed) in radians / second\n",
    "    a is the damping factor\n",
    "    returns the voltage at angle, rad in volts\n",
    "    '''\n",
    "    # compute undamped natural freq, wd < w0\n",
    "    wd = np.sqrt(np.abs(w0**2 - a_OD**2))\n",
    "    # check for zero value\n",
    "    if (wd == 0.0):\n",
    "        phi = np.pi/2.0\n",
    "        return VI - VI * np.exp(-a*t)\n",
    "    else:    \n",
    "        phi = np.arctan(a/wd) # phase\n",
    "        return VI - VI * (w0 / wd) * np.exp(-a*t)  * np.cos(wd*t - phi) "
   ]
  },
  {
   "cell_type": "markdown",
   "metadata": {},
   "source": [
    "### Frequency Domain: Frequency Response: Magnitude"
   ]
  },
  {
   "cell_type": "code",
   "execution_count": null,
   "metadata": {},
   "outputs": [],
   "source": [
    "# Frequency Response: Magnitude over Resistor\n",
    "# Transfer Function\n",
    "def FR_Mag_Res(w, R, C, L):\n",
    "    '''\n",
    "    Vi is the input voltage in volts\n",
    "    w is angular frequency (or speed) of sneaky input voltage (s = jw) in radians/second\n",
    "    R is the Resistance in ohms\n",
    "    C is the Capicatance in farads\n",
    "    L is the impedance in henrys    \n",
    "    returns Frequency Response: Magnitude over Resistor\n",
    "    '''\n",
    "    numerator = w * R * C\n",
    "    denominator = np.sqrt( (1 - w**2 * L * C)**2 + (w*R*C)**2) \n",
    "    return np.abs(numerator / denominator)\n",
    "\n",
    "# Frequency Response: Magnitude over Capacitor\n",
    "# Transfer Function\n",
    "# see 06_TD_and_FD_Analysis_RLC_Series_Circuit.txt for equation derivations\n",
    "def FR_Mag_Cap(w0, w, R, C, L):\n",
    "    '''\n",
    "    Vi is the input voltage in volts\n",
    "    w is angular frequency (or speed) of sneaky input voltage (s = jw) in radians/second\n",
    "    w0 is the resonant frequency in radians/second\n",
    "    returns Frequency Response: Magnitude over Capacitor\n",
    "    '''\n",
    "    numerator = w0**2\n",
    "    denominator = np.sqrt( (w**2 + w0**2)**2 + ((R/L)*w)**2 ) \n",
    "    return numerator / denominator\n",
    "    #return 1.0 / np.sqrt( (1 + w**2*C*L)**2 + (w*C*R)**2 ) "
   ]
  },
  {
   "cell_type": "markdown",
   "metadata": {},
   "source": [
    "### Constant Circuit Parameters"
   ]
  },
  {
   "cell_type": "code",
   "execution_count": null,
   "metadata": {},
   "outputs": [],
   "source": [
    "C = 10*10**(-12) # farads\n",
    "L = 10*10**-6 # henrys\n",
    "VI = 5.0 # input voltage in volts\n",
    "w0 = 1.0 / np.sqrt(L*C) # undamped natural (resonant) angular frequency (or speed) of circuit (= 1/sqrt(LC))\n",
    "f0 = w0 / (2.0*np.pi) # resonant frequency in Hz\n",
    "t = np.arange(0, 0.0000003, 0.000000001) # time range in seconds"
   ]
  },
  {
   "cell_type": "markdown",
   "metadata": {},
   "source": [
    "### Over-damped: a > w0 or Q < 0.5 where Q = w0/(2*a) and 2a = R/L "
   ]
  },
  {
   "cell_type": "code",
   "execution_count": null,
   "metadata": {},
   "outputs": [],
   "source": [
    "R_OD = 2500.0 # ohms\n",
    "a_OD = R_OD / (2*L) # does alpha have a name? damping constant\n",
    "cutOff_OD = 1/(R_OD*C) # break frequency in radians/sec\n",
    "w_OD = np.arange(0, 10000 * cutOff_OD, 100000) # range of angular frequencies (speeds) for over-damped\n",
    "Q_OD = w0 / (2*a_OD) # Quality Factor\n",
    "print(\"Q Over-damped: \" + str(Q_OD) )"
   ]
  },
  {
   "cell_type": "code",
   "execution_count": null,
   "metadata": {},
   "outputs": [],
   "source": [
    "# compute voltage across capacitor over time\n",
    "voltage_OD = voltage_RLC_Cap(VI, w0, a_OD, t)\n",
    "#compute frequency response across capacitor over frequency\n",
    "FR_Cap_OD = FR_Mag_Cap(w0, w_OD, R_OD, C, L)\n",
    "#compute frequency response across resistor over frequency\n",
    "FR_Res_OD =  FR_Mag_Res(w_OD, R_OD, C, L)"
   ]
  },
  {
   "cell_type": "code",
   "execution_count": null,
   "metadata": {
    "scrolled": true
   },
   "outputs": [],
   "source": [
    "plt.title(\"Frequency Response\"\n",
    "          \"\\n\"\n",
    "          \"Resistor\")\n",
    "plt.ylabel(\"Magnitude (Log Scale)\")\n",
    "plt.xlabel(\"Angular Frequency, w, (rad / s)\")\n",
    "plt.loglog(w_OD, FR_Res_OD)\n",
    "plt.ylim(-10000, 2)\n",
    "plt.show()\n",
    "\n",
    "plt.title(\"Frequency Response\" \n",
    "          \"\\n\"\n",
    "          \"Capacitor\")\n",
    "plt.ylabel(\"Magnitude (Log Scale)\")\n",
    "plt.xlabel(\"Angular Frequency, w, (rad / s)\")\n",
    "plt.loglog(w_OD, FR_Cap_OD)\n",
    "plt.ylim(-10000, 2)\n",
    "plt.show()\n",
    "\n",
    "plt.title(\"Voltage\" \n",
    "          \"\\n\"\n",
    "          \"Capacitor\")\n",
    "plt.ylabel(\"Voltage (volts)\")\n",
    "plt.xlabel(\"Time (seconds)\")\n",
    "plt.plot(t, voltage_OD)\n",
    "plt.show()\n"
   ]
  },
  {
   "cell_type": "markdown",
   "metadata": {},
   "source": [
    "### Under-damped: a < w0 or Q > 0.5  "
   ]
  },
  {
   "cell_type": "code",
   "execution_count": null,
   "metadata": {},
   "outputs": [],
   "source": [
    "R_UD = 500.0 # ohms\n",
    "a_UD = R_UD / (2*L) # does alpha have a name? damping constant\n",
    "cutOff_UD = 1/(R_UD*C) # break (angular) frequency\n",
    "w_UD = np.arange(0, 10000 * cutOff_UD, 100000) # range of angular frequencies (speeds) for under-damped\n",
    "Q_UD = w0 / (2*a_UD) # Quality Factor\n",
    "print(\"Q Under-damped: \" + str(Q_UD) )"
   ]
  },
  {
   "cell_type": "code",
   "execution_count": null,
   "metadata": {},
   "outputs": [],
   "source": [
    "# compute voltage across capacitor over time\n",
    "voltage_UD = voltage_RLC_Cap(VI, w0, a_UD, t)\n",
    "#compute frequency response across capacitor over frequency\n",
    "FR_Cap_UD = FR_Mag_Cap(w0, w_UD, R_UD, C, L)\n",
    "#compute frequency response across resistor over frequency\n",
    "FR_Res_UD =  FR_Mag_Res(w_UD, R_UD, C, L)"
   ]
  },
  {
   "cell_type": "code",
   "execution_count": null,
   "metadata": {},
   "outputs": [],
   "source": [
    "plt.title(\"Frequency Response\"\n",
    "          \"\\n\"\n",
    "          \"Resistor\")\n",
    "plt.ylabel(\"Magnitude (Log Scale)\")\n",
    "plt.xlabel(\"Angular Frequency, w, (rad / s)\")\n",
    "plt.loglog(w_UD, FR_Res_UD)\n",
    "plt.ylim(-10000, 2)\n",
    "plt.show()\n",
    "\n",
    "plt.title(\"Frequency Response\"\n",
    "          \"\\n\"\n",
    "          \"Capacitor\")\n",
    "plt.ylabel(\"Magnitude (Log Scale)\")\n",
    "plt.xlabel(\"Angular Frequency, w, (rad / s)\")\n",
    "plt.loglog(w_UD, FR_Cap_UD)\n",
    "plt.ylim(-10000, 2)\n",
    "plt.show()\n",
    "\n",
    "plt.title(\"Voltage Drop\" \n",
    "          \"\\n\"\n",
    "          \"Capacitor\")\n",
    "plt.ylabel(\"Voltage (volts)\")\n",
    "plt.xlabel(\"Time\")\n",
    "plt.plot(t, voltage_UD)\n",
    "plt.show()"
   ]
  },
  {
   "cell_type": "markdown",
   "metadata": {},
   "source": [
    "### Critically-damped: a = w0 or Q = 0.5"
   ]
  },
  {
   "cell_type": "code",
   "execution_count": null,
   "metadata": {},
   "outputs": [],
   "source": [
    "R_CD = 2000.0 # ohms\n",
    "a_CD = R_CD / (2*L) # does alpha have a name? damping constant\n",
    "cutOff_CD = 1/(R_CD*C) # break frequency\n",
    "w_CD = np.arange(0, 10000 * cutOff_CD, 100000) # range of angular frequencies (speeds) for critically-damped\n",
    "Q_CD = w0 / (2*a_CD) # Quality Factor\n",
    "print(\"Q Critically-damped: \" + str(Q_CD) )"
   ]
  },
  {
   "cell_type": "code",
   "execution_count": null,
   "metadata": {},
   "outputs": [],
   "source": [
    "# compute voltage across capacitor over time\n",
    "voltage_CD = voltage_RLC_Cap(VI, w0, a_CD, t)\n",
    "#compute frequency response across resistor over frequency\n",
    "FR_Cap_CD = FR_Mag_Cap(w0, w_CD, R_CD, C, L)\n",
    "#compute frequency response across resistor over frequency\n",
    "FR_Res_CD =  FR_Mag_Res(w_CD, R_CD, C, L)"
   ]
  },
  {
   "cell_type": "code",
   "execution_count": null,
   "metadata": {},
   "outputs": [],
   "source": [
    "plt.title(\"Frequency Response\"\n",
    "          \"\\n\"\n",
    "          \"Resistor\")\n",
    "plt.ylabel(\"Magnitude (Log Scale)\")\n",
    "plt.xlabel(\"Angular Frequency, w, (rad / s)\")\n",
    "plt.loglog(w_CD, FR_Res_CD)\n",
    "plt.ylim(-10000, 2)\n",
    "plt.show()\n",
    "\n",
    "plt.title(\"Frequency Response\"\n",
    "          \"\\n\"\n",
    "          \"Capacitor\")\n",
    "plt.ylabel(\"Magnitude (Log Scale)\")\n",
    "plt.xlabel(\"Angular Frequency, w,(rad / s)\")\n",
    "plt.loglog(w_CD, FR_Cap_CD)\n",
    "plt.ylim(-10000, 2)\n",
    "plt.show()\n",
    "\n",
    "plt.title(\"Voltage\" \n",
    "          \"\\n\"\n",
    "          \"Capacitor\")\n",
    "plt.ylabel(\"Voltage (volts)\")\n",
    "plt.xlabel(\"Time\")\n",
    "plt.plot(t, voltage_CD)\n",
    "plt.show()"
   ]
  },
  {
   "cell_type": "markdown",
   "metadata": {},
   "source": [
    "# Q Test (Peakiness)"
   ]
  },
  {
   "cell_type": "code",
   "execution_count": null,
   "metadata": {},
   "outputs": [],
   "source": [
    "w_test = np.arange(0, 10000 * 40000, 100000) # range of angular frequencies (speeds) for test circuit"
   ]
  },
  {
   "cell_type": "code",
   "execution_count": null,
   "metadata": {},
   "outputs": [],
   "source": [
    "FR_Cap_CD_test = FR_Mag_Cap(w0, w_test, R_CD, C, L) # critically-damped\n",
    "FR_Cap_UD_test = FR_Mag_Cap(w0, w_test, R_UD, C, L) # under-damped\n",
    "FR_Cap_OD_test = FR_Mag_Cap(w0, w_test, R_OD, C, L) # over-damped"
   ]
  },
  {
   "cell_type": "code",
   "execution_count": null,
   "metadata": {},
   "outputs": [],
   "source": [
    "plt.title(\"Frequency Response\"\n",
    "          \"\\n\"\n",
    "          \"Capacitor\")\n",
    "plt.ylabel(\"Magnitude (Log Scale)\")\n",
    "plt.xlabel(\"Angular Frequency (rad / s)\")\n",
    "plt.loglog(w_test, FR_Cap_CD_test, 'b')\n",
    "plt.loglog(w_test, FR_Cap_OD_test, 'g')\n",
    "plt.loglog(w_test, FR_Cap_UD_test, 'r')\n",
    "plt.ylim(-10000, 2)\n",
    "plt.show()"
   ]
  },
  {
   "cell_type": "code",
   "execution_count": null,
   "metadata": {},
   "outputs": [],
   "source": [
    "FR_Res_CD_test = FR_Mag_Res(w_test, R_CD, C, L) # critically-damped\n",
    "FR_Res_OD_test = FR_Mag_Res(w_test, R_OD, C, L) # under-damped\n",
    "FR_Res_UD_test = FR_Mag_Res(w_test, R_UD, C, L) # over-damped"
   ]
  },
  {
   "cell_type": "code",
   "execution_count": null,
   "metadata": {},
   "outputs": [],
   "source": [
    "plt.title(\"Frequency Response\"\n",
    "          \"\\n\"\n",
    "          \"Resistor\")\n",
    "plt.ylabel(\"Magnitude (Log Scale)\")\n",
    "plt.xlabel(\"Angular Frequency (rad / s)\")\n",
    "plt.loglog(w_test, FR_Res_CD_test, 'b')\n",
    "plt.loglog(w_test, FR_Res_OD_test, 'g')\n",
    "plt.loglog(w_test, FR_Res_UD_test, 'r')\n",
    "plt.ylim(-10000, 2)\n",
    "plt.show()"
   ]
  },
  {
   "cell_type": "markdown",
   "metadata": {},
   "source": [
    "# S22E2: The filter is ringing"
   ]
  },
  {
   "cell_type": "code",
   "execution_count": null,
   "metadata": {},
   "outputs": [],
   "source": [
    "f0_S22E2 = 1.03 *10**6 # Hetz\n",
    "w0_S22E2 = 2*np.pi * f0_S22E2\n",
    "L_S22E2 = 242 *10**(-6) # henrys\n",
    "# Part 1\n",
    "C_S22E2 = 1. /(w0_S22E2**2 * L_S22E2) # farads\n",
    "R_S22E2 = 375 # ohms"
   ]
  },
  {
   "cell_type": "code",
   "execution_count": null,
   "metadata": {},
   "outputs": [],
   "source": [
    "FR_Res_UD_S22E2 = FR_Mag_Res(w_test, R_S22E2, C_S22E2, L_S22E2) # Frequency Response across Resistance"
   ]
  },
  {
   "cell_type": "code",
   "execution_count": null,
   "metadata": {},
   "outputs": [],
   "source": [
    "plt.title(\"Frequency Response \"\n",
    "         \"\\n\"\n",
    "         \"of Resistor: S22E2\")\n",
    "plt.ylabel(\"Magnitude (Log Scale)\")\n",
    "plt.xlabel(\"Angular Frequency (rad / s)\")\n",
    "plt.loglog(w_test, FR_Res_UD_S22E2, 'r')\n",
    "plt.ylim(-10000, 2)\n",
    "plt.show()"
   ]
  },
  {
   "cell_type": "code",
   "execution_count": null,
   "metadata": {},
   "outputs": [],
   "source": [
    "FR_Cap_OD_S22E2 = FR_Mag_Cap(w0, w_test, R_S22E2, C_S22E2, L_S22E2) # Frequency Response across Capacitor"
   ]
  },
  {
   "cell_type": "code",
   "execution_count": null,
   "metadata": {},
   "outputs": [],
   "source": [
    "plt.title(\"Frequency Response \"\n",
    "         \"\\n\"\n",
    "         \"Capacitor: S22E2\")\n",
    "plt.ylabel(\"Magnitude (Log Scale)\")\n",
    "plt.xlabel(\"Angular Frequency (rad / s)\")\n",
    "plt.loglog(w_test, FR_Cap_OD_S22E2, 'r')\n",
    "plt.ylim(-10000, 2)\n",
    "plt.show()"
   ]
  },
  {
   "cell_type": "markdown",
   "metadata": {},
   "source": [
    "# Book example: page 813"
   ]
  },
  {
   "cell_type": "code",
   "execution_count": null,
   "metadata": {},
   "outputs": [],
   "source": [
    "C_book = 13*10**(-9) # farads\n",
    "L_book = 20*10**(-3) # henrys\n",
    "VI_book = 5.0 # input voltage in volts\n",
    "w0_book = 1.0 / np.sqrt(L_book*C_book) # undamped natural (resonant) frequency (speed) of circuit (= 1/sqrt(LC))\n",
    "# time analysis\n",
    "t_book = np.arange(0, 0.000001, 0.00000001)"
   ]
  },
  {
   "cell_type": "code",
   "execution_count": null,
   "metadata": {},
   "outputs": [],
   "source": [
    "R_book = 50 # ohmsa_CD = R_CD / (2*L) # does alpha have a name? damping constant\n",
    "a_book = R_book / (2*L_book) # does alpha have a name? damping constant\n",
    "cutOff_book = 1/(R_book*C_book) # break frequency\n",
    "#frequency analysis\n",
    "w_book = np.arange(0, 10000 * cutOff_book, 1000) # range of angular frequencies (speeds) for book circuit\n",
    "Q_book = w0_book / (2*a_book) # Quality Factor\n",
    "print(\"Q Critically-damped: \" + str(Q_book) )"
   ]
  },
  {
   "cell_type": "code",
   "execution_count": null,
   "metadata": {},
   "outputs": [],
   "source": [
    "# compute voltage across capacitor over time\n",
    "voltage_book = voltage_RLC_Cap(VI_book, w0_book, a_book, t_book)\n",
    "#compute frequency response across capacitor over frequency\n",
    "FR_Cap_book = FR_Mag_Cap(w0_book, w_book, R_book, C_book, L_book)\n",
    "#compute frequency response across resistor over frequency\n",
    "FR_Res_book =  FR_Mag_Res(w_book, R_book, C_book, L_book)"
   ]
  },
  {
   "cell_type": "code",
   "execution_count": null,
   "metadata": {},
   "outputs": [],
   "source": [
    "plt.title(\"Frequency Response\"\n",
    "         \"\\n\"\n",
    "         \"of Resistor\")\n",
    "plt.ylabel(\"Magnitude (Log Scale)\")\n",
    "plt.xlabel(\"Angular Frequency (rad / s)\")\n",
    "plt.loglog(w_book, FR_Res_book)\n",
    "plt.xlim(0, 10**10)\n",
    "plt.show()\n",
    "\n",
    "plt.title(\"Frequency Response\"\n",
    "         \"\\n\"\n",
    "         \"Capacitor\")\n",
    "plt.ylabel(\"Magnitude (Log Scale)\")\n",
    "plt.xlabel(\"Angular Frequency (rad / s)\")\n",
    "plt.loglog(w_book, FR_Cap_book)\n",
    "plt.ylim(-10000, 2)\n",
    "plt.xlim(0, 10**10)\n",
    "plt.show()\n",
    "\n",
    "plt.title(\"Voltage\"\n",
    "         \"\\n\"\n",
    "         \"Capacitor\")\n",
    "plt.ylabel(\"Voltage (volts)\")\n",
    "plt.xlabel(\"Time (seconds)\")\n",
    "plt.plot(t_book, voltage_book)\n",
    "plt.show()\n"
   ]
  },
  {
   "cell_type": "code",
   "execution_count": null,
   "metadata": {},
   "outputs": [],
   "source": []
  },
  {
   "cell_type": "code",
   "execution_count": null,
   "metadata": {},
   "outputs": [],
   "source": []
  }
 ],
 "metadata": {
  "kernelspec": {
   "display_name": "Python 2",
   "language": "python",
   "name": "python2"
  },
  "language_info": {
   "codemirror_mode": {
    "name": "ipython",
    "version": 2
   },
   "file_extension": ".py",
   "mimetype": "text/x-python",
   "name": "python",
   "nbconvert_exporter": "python",
   "pygments_lexer": "ipython2",
   "version": "2.7.12"
  }
 },
 "nbformat": 4,
 "nbformat_minor": 2
}
