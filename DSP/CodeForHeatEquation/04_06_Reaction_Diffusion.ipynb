{
 "cells": [
  {
   "cell_type": "markdown",
   "metadata": {},
   "source": [
    "###### Content under Creative Commons Attribution license CC-BY 4.0, code under MIT license (c)2014 L.A. Barba, C.D. Cooper, G.F. Forsyth."
   ]
  },
  {
   "cell_type": "markdown",
   "metadata": {},
   "source": [
    "# Reaction-diffusion model"
   ]
  },
  {
   "cell_type": "markdown",
   "metadata": {},
   "source": [
    "This IPython Notebook presents the context and set-up for the coding assignment of Module 4: _Spreading out: Diffusion problems_, of the course [**\"Practical Numerical Methods with Python\"**](https://github.com/numerical-mooc/numerical-mooc) (a.k.a., numericalmooc).\n",
    "\n",
    "So far in this module, we've studied diffusion in 1D and 2D. Now it's time to add in some more interesting physics.  You'll study a model represented by *reaction-diffusion* equations.  What are they?  The name says it all—it's a system that has the physics of diffusion but also has some kind of reaction that adds different behaviors to the solution.\n",
    "\n",
    "We're going to look at the _Gray-Scott model_, which simulates the interaction of two generic chemical species reacting and ... you guessed it ... diffusing! Some amazing patterns can emerge with simple reaction models, eerily reminiscent of patterns formed in nature. It's fascinating! Check out this simulation by Karl Sims posted on You Tube ... it looks like a growing coral reef, doesn't it?"
   ]
  },
  {
   "cell_type": "code",
   "execution_count": null,
   "metadata": {},
   "outputs": [],
   "source": [
    "from IPython.display import YouTubeVideo\n",
    "YouTubeVideo('8dTmUr5qKvI')"
   ]
  },
  {
   "cell_type": "markdown",
   "metadata": {},
   "source": [
    "## Gray-Scott model"
   ]
  },
  {
   "cell_type": "markdown",
   "metadata": {},
   "source": [
    "The Gray-Scott model represents the reaction and diffusion of two generic chemical species, $U$ and $V$, whose concentration at a point in space is represented by variables $u$ and $v$. The model follows some simple rules.  \n",
    "\n",
    "*  Each chemical _diffuses_ through space at its own rate.\n",
    "*  Species $U$ is added at a constant feed rate into the system.\n",
    "*  Two units of species V can 'turn' a unit of species U into V: $\\; 2V+U\\rightarrow 3V$\n",
    "*  There's a constant kill rate removing species $V$.\n",
    "\n",
    "This model results in the following system of partial differential equations for the concentrations $u(x,y,t)$ and $v(x,y,t)$ of both chemical species:"
   ]
  },
  {
   "cell_type": "markdown",
   "metadata": {},
   "source": [
    "\\begin{align}\n",
    "\\frac{\\partial u}{\\partial t} &= D_u \\nabla ^2 u - uv^2 + F(1-u)\\\\\n",
    "\\frac{\\partial v}{\\partial t} &= D_v \\nabla ^2 v + uv^2 - (F + k)v\n",
    "\\end{align}"
   ]
  },
  {
   "cell_type": "markdown",
   "metadata": {},
   "source": [
    "You should see some familiar terms, and some unfamiliar ones.  On the left-hand side of each equation, we have the time rate of change of the concentrations. The first term on the right of each equation correspond to the spatial diffusion of each concentration, with $D_u$ and $D_v$ the respective rates of diffusion.\n",
    "\n",
    "In case you forgot, the operator $\\nabla ^2$ is the Laplacian:\n",
    "\n",
    "$$\n",
    "\\nabla ^2 u = \\frac{\\partial ^2 u}{\\partial x^2} + \\frac{\\partial ^2 u}{\\partial y^2}\n",
    "$$\n",
    "\n",
    "The second term on the right-hand side of each equation corresponds to the reaction. You see that this term decreases $u$ while it increases $v$ in the same amount: $uv^2$.  The reaction requires one unit of $U$ and two units of $V$,  resulting in a reaction rate proportional to the concentration $u$ and to the square of the concentration $v$. This result derives from the _law of mass action_, which we can explain in terms of probability: the odds of finding one molecule of species $U$ at a point in space is proportional to the concentration $u$, while the odds of finding two molecules of $V$ is proportional to the concentration squared, $v^2$. We assume here a reaction rate constant equal to $1$, which just means that the model is non-dimensionalized in some way.\n",
    "\n",
    "The final terms in the two equations are the \"feed\" and \"kill\" rates, respectively: $F(1-u)$ replenishes the species $U$ (which would otherwise run out, as it is being turned into $V$ by the reaction); $-(F+k)v$ is diminishing the species $V$ (otherwise the concentration $v$ would simply increase without bound). \n",
    "\n",
    "The values of $F$ and $k$ are chosen parameters and part of the fun of this assignment is to change these values, together with the diffusion constants, and see what happens. "
   ]
  },
  {
   "cell_type": "markdown",
   "metadata": {},
   "source": [
    "### Problem setup"
   ]
  },
  {
   "cell_type": "markdown",
   "metadata": {},
   "source": [
    "The system is represented by two arrays, `U` and `V`, holding the discrete values of the concentrations $u$ and $v$, respectively.  We start by setting `U = 1` everywhere and `V = 0` everywhere, then introduce areas of difference, as initial conditions.  We then add a little noise to the whole system to help the $u$ and $v$ reactions along.  \n",
    "\n",
    "Below is the code segment we used to generate the initial conditions for `U` and `V`.  \n",
    "\n",
    "**NOTE**: *DO NOT USE THIS CODE IN YOUR ASSIGNMENT*.\n",
    "We are showing it here to help you understand how the system is constructed.  However, you _must use the data we've supplied below_ as your starting condition or your answers will not match those that the grading system expects.\n",
    "\n",
    "```[Python]\n",
    "num_blocks = 30\n",
    "randx = numpy.random.randint(1, nx-1, num_blocks)\n",
    "randy = numpy.random.randint(1, nx-1, num_blocks)\n",
    "U = numpy.ones((n,n))\n",
    "V = numpy.zeros((n,n))\n",
    "\n",
    "r = 10\n",
    "U[:,:] = 1.0\n",
    "\n",
    "for i, j in zip(randx, randy):\n",
    "    U[i-r:i+r,j-r:j+r] = 0.50\n",
    "    V[i-r:i+r,j-r:j+r] = 0.25\n",
    "\n",
    "U += 0.05*numpy.random.random((n,n))\n",
    "V += 0.05*numpy.random.random((n,n))\n",
    "```"
   ]
  },
  {
   "cell_type": "markdown",
   "metadata": {},
   "source": [
    "## Your assignment"
   ]
  },
  {
   "cell_type": "markdown",
   "metadata": {},
   "source": [
    "*  Discretize the reaction-diffusion equations using forward-time/central-space and assume that $\\Delta x = \\Delta y = \\delta$.\n",
    "\n",
    "*  For your timestep, set \n",
    "$$\\Delta t = \\frac{9}{40}\\frac{\\delta^2}{\\max(D_u, D_v)}$$\n",
    "\n",
    "*  Use zero Neumann boundary conditions on all sides of the domain.\n",
    "\n",
    "You should use the initial conditions and constants listed in the cell below.  They correspond to the following domain:\n",
    "\n",
    "*  Grid of points with dimension `192x192` points\n",
    "*  Domain is $5{\\rm m} \\times 5{\\rm m}$\n",
    "*  Final time is $8000{\\rm s}$."
   ]
  },
  {
   "cell_type": "code",
   "execution_count": null,
   "metadata": {},
   "outputs": [],
   "source": [
    "import numpy\n",
    "from matplotlib import pyplot\n",
    "import matplotlib.cm as cm\n",
    "%matplotlib inline"
   ]
  },
  {
   "cell_type": "code",
   "execution_count": null,
   "metadata": {},
   "outputs": [],
   "source": [
    "def ftcs(U, V, Du, Dv, F, k, dt, dh, nt):\n",
    "\n",
    "    for n in range(nt):\n",
    "        Un = U.copy();\n",
    "        Vn = V.copy();  \n",
    "        U[1:-1,1:-1] = Un[1:-1,1:-1] + Du *\\\n",
    "            (dt/dh**2 * (Un[2:,1:-1] - 2*Un[1:-1,1:-1] + Un[:-2,1:-1]) +\\\n",
    "             dt/dh**2 * (Un[1:-1,2:] - 2*Un[1:-1,1:-1] + Un[1:-1,:-2])) -\\\n",
    "             dt*Un[1:-1,1:-1]*Vn[1:-1,1:-1]**2 +\\\n",
    "             dt*F*(1- Un[1:-1,1:-1])\n",
    "\n",
    "        # Enforce Neumann BCs\n",
    "        U[-1,:] = U[-2,:]\n",
    "        U[0,:] = U[1,:]\n",
    "        U[:,-1] = U[:,-2]\n",
    "        U[:,0] = U[:,1]\n",
    "        \n",
    "        V[1:-1,1:-1] = Vn[1:-1,1:-1] + Dv *\\\n",
    "            (dt/dh**2 * (Vn[2:,1:-1] - 2*Vn[1:-1,1:-1] + Vn[:-2,1:-1]) +\\\n",
    "             dt/dh**2 * (Vn[1:-1,2:] - 2*Vn[1:-1,1:-1] + Vn[1:-1,:-2])) +\\\n",
    "             dt*Un[1:-1,1:-1]*Vn[1:-1,1:-1]**2 -\\\n",
    "             dt*(F+k)*Vn[1:-1,1:-1]\n",
    "\n",
    "        # Enforce Neumann BCs\n",
    "        V[-1,:] = V[-2,:]\n",
    "        V[0,:] = V[1,:]\n",
    "        V[:,-1] = V[:,-2]\n",
    "        V[:,0] = V[:,1]\n",
    "\n",
    "\n",
    "    return U, V"
   ]
  },
  {
   "cell_type": "code",
   "execution_count": null,
   "metadata": {},
   "outputs": [],
   "source": [
    "n = 192\n",
    "\n",
    "Du, Dv, F, k = 0.00016, 0.00008, 0.035, 0.065 # Bacteria 1 \n",
    "#Du, Dv, F, k = 0.00014, 0.00006, 0.035, 0.065 # Bacteria 2\n",
    "#Du, Dv, F, k = 0.00016, 0.00008, 0.060, 0.062 # Coral\n",
    "#Du, Dv, F, k = 0.00019, 0.00005, 0.060, 0.062 # Fingerprint\n",
    "#Du, Dv, F, k = 0.00010, 0.00010, 0.018, 0.050 # Spirals\n",
    "#Du, Dv, F, k = 0.00016, 0.00008, 0.050, 0.065 # Worms 1\n",
    "#Du, Dv, F, k = 0.00016, 0.00008, 0.054, 0.063 # Worms 2\n",
    "#Du, Dv, F, k = 0.00016, 0.00008, 0.035, 0.060 # Zebrafish\n",
    "\n",
    "dh = 5.0/(n-1)\n",
    "\n",
    "T = 8000.0\n",
    "\n",
    "dt = .9 * dh**2 / (4.0*max(Du,Dv))\n",
    "nt = int(T/dt)\n"
   ]
  },
  {
   "cell_type": "markdown",
   "metadata": {},
   "source": [
    "### Initial condition data files"
   ]
  },
  {
   "cell_type": "markdown",
   "metadata": {},
   "source": [
    "In order to ensure that you start from the same initial conditions as we do, please download the file [uvinitial.npz](https://github.com/numerical-mooc/numerical-mooc/blob/master/lessons/04_spreadout/data/uvinitial.npz?raw=true)\n",
    "\n",
    "This is a NumPy save-file that contains two NumPy arrays, holding the initial values for `U` and `V`, respectively.  Once you have downloaded the file into your working directory, you can load the data using the following code snippet.  "
   ]
  },
  {
   "cell_type": "code",
   "execution_count": null,
   "metadata": {},
   "outputs": [],
   "source": [
    "uvinitial = numpy.load('./data/uvinitial.npz')\n",
    "U = uvinitial['U']\n",
    "V = uvinitial['V']\n",
    "U.shape"
   ]
  },
  {
   "cell_type": "code",
   "execution_count": null,
   "metadata": {},
   "outputs": [],
   "source": [
    "fig = pyplot.figure(figsize=(8,5))\n",
    "pyplot.subplot(121)\n",
    "pyplot.imshow(U, cmap = cm.RdBu)\n",
    "pyplot.xticks([]), pyplot.yticks([]);\n",
    "pyplot.subplot(122)\n",
    "pyplot.imshow(V, cmap = cm.RdBu)\n",
    "pyplot.xticks([]), pyplot.yticks([]);\n"
   ]
  },
  {
   "cell_type": "markdown",
   "metadata": {},
   "source": [
    "## Run simulation"
   ]
  },
  {
   "cell_type": "code",
   "execution_count": null,
   "metadata": {},
   "outputs": [],
   "source": [
    "Uans, Vans = ftcs(U.copy(), V.copy(), Du, Dv, F, k, dt, dh, nt)\n",
    "print('answer: ', Uans[100,::40])"
   ]
  },
  {
   "cell_type": "markdown",
   "metadata": {},
   "source": [
    "## Plot Results"
   ]
  },
  {
   "cell_type": "code",
   "execution_count": null,
   "metadata": {},
   "outputs": [],
   "source": [
    "fig = pyplot.figure(figsize=(8,5))\n",
    "pyplot.subplot(121)\n",
    "pyplot.imshow(Uans, cmap = cm.RdBu)\n",
    "pyplot.xticks([]), pyplot.yticks([]);\n",
    "pyplot.subplot(122)\n",
    "pyplot.imshow(Vans, cmap = cm.RdBu)\n",
    "pyplot.xticks([]), pyplot.yticks([]);"
   ]
  },
  {
   "cell_type": "markdown",
   "metadata": {},
   "source": [
    "Below is an animated gif showing the results of this solution for a different set of randomized initial block positions.  Each frame of the animation represents 100 timesteps.  \n",
    "\n",
    "Just to get your juices flowing!"
   ]
  },
  {
   "cell_type": "markdown",
   "metadata": {},
   "source": [
    "## Sample Solution"
   ]
  },
  {
   "cell_type": "markdown",
   "metadata": {},
   "source": [
    "<img src=\"./figures/celldivision.gif\">"
   ]
  },
  {
   "cell_type": "markdown",
   "metadata": {},
   "source": [
    "## Exploring extra patterns"
   ]
  },
  {
   "cell_type": "markdown",
   "metadata": {},
   "source": [
    "Once you have completed the assignment, you might want to explore a few more of the interesting patterns that can be obtained with the Gray-Scott model.  The conditions below will result in a variety of patterns and should work without any other changes to your existing code.\n",
    "\n",
    "This pattern is called \"Fingerprints.\""
   ]
  },
  {
   "cell_type": "markdown",
   "metadata": {},
   "source": [
    "<img src=\"./figures/fingerprint.gif\">"
   ]
  },
  {
   "cell_type": "code",
   "execution_count": null,
   "metadata": {},
   "outputs": [],
   "source": [
    "#Du, Dv, F, k = 0.00014, 0.00006, 0.035, 0.065 # Bacteria 2\n",
    "#Du, Dv, F, k = 0.00016, 0.00008, 0.060, 0.062 # Coral\n",
    "#Du, Dv, F, k = 0.00019, 0.00005, 0.060, 0.062 # Fingerprint\n",
    "#Du, Dv, F, k = 0.00010, 0.00010, 0.018, 0.050 # Spirals\n",
    "#Du, Dv, F, k = 0.00012, 0.00008, 0.020, 0.050 # Spirals Dense\n",
    "#Du, Dv, F, k = 0.00010, 0.00016, 0.020, 0.050 # Spirals Fast\n",
    "#Du, Dv, F, k = 0.00016, 0.00008, 0.020, 0.055 # Unstable\n",
    "#Du, Dv, F, k = 0.00016, 0.00008, 0.050, 0.065 # Worms 1\n",
    "#Du, Dv, F, k = 0.00016, 0.00008, 0.054, 0.063 # Worms 2\n",
    "#Du, Dv, F, k = 0.00016, 0.00008, 0.035, 0.060 # Zebrafish"
   ]
  },
  {
   "cell_type": "markdown",
   "metadata": {},
   "source": [
    "## References"
   ]
  },
  {
   "cell_type": "markdown",
   "metadata": {},
   "source": [
    "*  Reaction-diffusion tutorial, by Karl Sims\n",
    "http://www.karlsims.com/rd.html\n",
    "\n",
    "*  Pearson, J. E. (1993). [Complex patterns in a simple system](http://www.sciencemag.org/content/261/5118/189), _Science_, Vol. 261(5118), 189-192 // [PDF](http://www3.nd.edu/~powers/pearson.pdf) from nd.edu.\n",
    "\n",
    "*  Pattern Parameters from [http://www.aliensaint.com/uo/java/rd/](http://www.aliensaint.com/uo/java/rd/)"
   ]
  },
  {
   "cell_type": "markdown",
   "metadata": {},
   "source": [
    "---\n",
    "###### The cell below loads the style of the notebook"
   ]
  },
  {
   "cell_type": "code",
   "execution_count": null,
   "metadata": {},
   "outputs": [],
   "source": [
    "from IPython.core.display import HTML\n",
    "css_file = './styles/numericalmoocstyle.css'\n",
    "HTML(open(css_file, \"r\").read())"
   ]
  },
  {
   "cell_type": "code",
   "execution_count": null,
   "metadata": {},
   "outputs": [],
   "source": []
  }
 ],
 "metadata": {
  "anaconda-cloud": {},
  "kernelspec": {
   "display_name": "Python 2",
   "language": "python",
   "name": "python2"
  },
  "language_info": {
   "codemirror_mode": {
    "name": "ipython",
    "version": 2
   },
   "file_extension": ".py",
   "mimetype": "text/x-python",
   "name": "python",
   "nbconvert_exporter": "python",
   "pygments_lexer": "ipython2",
   "version": "2.7.12"
  }
 },
 "nbformat": 4,
 "nbformat_minor": 1
}
