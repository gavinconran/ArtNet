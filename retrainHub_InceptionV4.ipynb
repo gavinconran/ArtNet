{
 "cells": [
  {
   "cell_type": "code",
   "execution_count": null,
   "metadata": {},
   "outputs": [],
   "source": [
    "!python retrain.py \\\n",
    "--image_dir ./data \\\n",
    "--how_many_training_steps=1000 \\\n",
    "--output_graph=./models/output_graph.pb \\\n",
    "--intermediate_output_graphs_dir=./models/intermediate_graph/ \\\n",
    "--intermediate_store_frequency=0 \\\n",
    "--output_labels=./models/output_labels.txt \\\n",
    "--summaries_dir=./models/retrain_logs \\\n",
    "--learning_rate=0.01 \\\n",
    "--testing_percentage=10 \\\n",
    "--validation_percentage=10 \\\n",
    "--eval_step_interval=10 \\\n",
    "--train_batch_size=100 \\\n",
    "--test_batch_size=-1 \\\n",
    "--validation_batch_size=100 \\\n",
    "--model_dir=./models/imagenet \\\n",
    "--bottleneck_dir=./models/bottleneck \\\n",
    "--final_tensor_name=final_result \\\n",
    "--saved_model_dir=./models/$(date +%s)/ \\\n",
    "--tfhub_module https://tfhub.dev/google/imagenet/resnet_v2_50/feature_vector/1"
   ]
  }
 ],
 "metadata": {
  "kernelspec": {
   "display_name": "Python 2",
   "language": "python",
   "name": "python2"
  },
  "language_info": {
   "codemirror_mode": {
    "name": "ipython",
    "version": 2
   },
   "file_extension": ".py",
   "mimetype": "text/x-python",
   "name": "python",
   "nbconvert_exporter": "python",
   "pygments_lexer": "ipython2",
   "version": "2.7.12"
  }
 },
 "nbformat": 4,
 "nbformat_minor": 2
}
