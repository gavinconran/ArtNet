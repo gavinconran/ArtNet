{
 "cells": [
  {
   "cell_type": "markdown",
   "metadata": {},
   "source": [
    "# MOSFET Amplifier"
   ]
  },
  {
   "cell_type": "markdown",
   "metadata": {},
   "source": [
    "## Part 1: This circuit is a MOSFET in saturation mode\n",
    "acts as an amplifier (or voltage controlled current source)\n",
    "\n",
    "\n",
    "\n"
   ]
  },
  {
   "cell_type": "markdown",
   "metadata": {},
   "source": [
    "#### Two constraints\n",
    "1) vI >= VT  \n",
    "2) vO >= vI - VT  \n",
    "BEWARE: vO not always equal to vDS!!!! "
   ]
  },
  {
   "cell_type": "markdown",
   "metadata": {},
   "source": [
    "#### Notation:  \n",
    "Total Coordinate: (vD, iD)  => Total, i.e. (VD + vd, ID + id)  \n",
    "Operating Point:  (VD, ID)  => DC part  \n",
    "Perturbation:     (vd, id)  => incremental part"
   ]
  },
  {
   "cell_type": "code",
   "execution_count": null,
   "metadata": {},
   "outputs": [],
   "source": [
    "import numpy as np\n",
    "import math\n",
    "import matplotlib.pyplot as plt\n",
    "import matplotlib as mpl\n",
    "from scipy import signal\n",
    "mpl.style.use('classic')"
   ]
  },
  {
   "cell_type": "markdown",
   "metadata": {},
   "source": [
    "### Analytic Method\n"
   ]
  },
  {
   "cell_type": "markdown",
   "metadata": {},
   "source": [
    "#### Step 1: Analyse Circuit using Node Analysis\n",
    "vO = VS - (K/2) * (vI - VT)**2 * RL  for vI >= 1V  \n",
    "vO = VS for vI < 1V"
   ]
  },
  {
   "cell_type": "markdown",
   "metadata": {},
   "source": [
    "##### Circuit Parameters & input voltages"
   ]
  },
  {
   "cell_type": "code",
   "execution_count": null,
   "metadata": {},
   "outputs": [],
   "source": [
    "VS = 10.0 # source voltage\n",
    "K = 3*10**(-3); # MOSFET parameter\n",
    "RL = 5000.0; # load resistance\n",
    "VT = 1.0; # cut-off voltage, also a MOSFET parameter\n",
    "# input voltages\n",
    "vGS10 = 3; vGS11 = 4; vGS12 = 5; vGS13 = 6; vGS14 = 8; vGS15 = 10; "
   ]
  },
  {
   "cell_type": "markdown",
   "metadata": {},
   "source": [
    "#### Equation B: Recall vO = vDS"
   ]
  },
  {
   "cell_type": "code",
   "execution_count": null,
   "metadata": {},
   "outputs": [],
   "source": [
    "def vDS_Fun(VS, iDS, RL):\n",
    "    '''\n",
    "    VS is the source voltage which is set once\n",
    "    iDS is the output current\n",
    "    RL is the load resistance\n",
    "    returns vO\n",
    "    '''\n",
    "    return VS - iDS * RL"
   ]
  },
  {
   "cell_type": "markdown",
   "metadata": {},
   "source": [
    "#### Equation B Rearranged"
   ]
  },
  {
   "cell_type": "code",
   "execution_count": null,
   "metadata": {},
   "outputs": [],
   "source": [
    "def iDS_Fun(VS, vO, RL):\n",
    "    '''\n",
    "    VS is the source voltage which is set once\n",
    "    vO is the output voltage\n",
    "    RL is the load resistance\n",
    "    returns iDS\n",
    "    '''\n",
    "    return VS/RL - vO/RL\n"
   ]
  },
  {
   "cell_type": "markdown",
   "metadata": {},
   "source": [
    "#### Equation A: MOSFET SCS model, i.e. Device Relation"
   ]
  },
  {
   "cell_type": "code",
   "execution_count": null,
   "metadata": {},
   "outputs": [],
   "source": [
    "def iDS_Fun_SCS(K, vI, VT, RL, vGS, VS):\n",
    "    '''\n",
    "    K is a constant\n",
    "    vI is the input voltage (also known as vGS)\n",
    "    VT is the cut-off voltage\n",
    "    RL is the load resistance\n",
    "    vGS is used to compute the saturation current\n",
    "    VS is the source voltage\n",
    "    returns iDS for MOSFET SCS model\n",
    "    '''\n",
    "    # constraint 1: vI >= VT\n",
    "    # constraint 2: vI >= vGS - VT (see 1.37 of S9V11)\n",
    "    if (vI < VT) or (vI < vGS - VT):\n",
    "        return None\n",
    "    else:\n",
    "        return (K/2.0) * (vGS - VT)**2"
   ]
  },
  {
   "cell_type": "markdown",
   "metadata": {},
   "source": [
    "#### Equation A: 'Knee' point leading to MOSFET SCS behaviour, i.e triode region boundary"
   ]
  },
  {
   "cell_type": "code",
   "execution_count": null,
   "metadata": {},
   "outputs": [],
   "source": [
    "def iDS_Fun_Knee(K, vI, VT):\n",
    "    '''\n",
    "    K is a constant\n",
    "    vI is the input voltage (also known as vGS)\n",
    "    VT is the cut-off voltage\n",
    "    returns iDS for MOSFET SR model\n",
    "    '''\n",
    "    # constraint 1: vI >= VT\n",
    "    if (vI < VT):\n",
    "        return None\n",
    "    else:\n",
    "        return (K/2.0) * (vI - VT)**2"
   ]
  },
  {
   "cell_type": "markdown",
   "metadata": {},
   "source": [
    "#### LARGE SIGNAL equation"
   ]
  },
  {
   "cell_type": "code",
   "execution_count": null,
   "metadata": {},
   "outputs": [],
   "source": [
    "def vO_Fun(VS, K, vI, VT, RL):\n",
    "    '''\n",
    "    K is a constant\n",
    "    vI is the input voltage\n",
    "    VT is the cut-off voltage\n",
    "    RL is the load resistance\n",
    "    VS is the source voltage\n",
    "    returns the output voltage, vO\n",
    "    '''\n",
    "    if (vI < VT):\n",
    "        return VS\n",
    "    vO = VS - (K*(vI - VT)**2)/2.0 * RL\n",
    "    if (vO <= vI - VT):\n",
    "        return ((-1.0 + math.sqrt(1+2*K*RL*VS)) / (K*RL)) # from lecture\n",
    "    return vO"
   ]
  },
  {
   "cell_type": "markdown",
   "metadata": {},
   "source": [
    "#### Compute vo function (using A, slope of  LARGE SIGNAL equation)\n",
    "i.e, this is the derivative of the LARGE SIGNAL equation above"
   ]
  },
  {
   "cell_type": "code",
   "execution_count": null,
   "metadata": {},
   "outputs": [],
   "source": [
    "def vo_Fun(RL, K, VI, VT, vi):\n",
    "    '''\n",
    "    K is a constant\n",
    "    VI is the input voltage boost or bias\n",
    "    VT is the cut-off voltage\n",
    "    RL is the load resistance\n",
    "    vi is the small signal input\n",
    "    returns the small output voltage, vo\n",
    "    '''\n",
    "    A = RL*K*(VI-VT)\n",
    "    return -A*vi"
   ]
  },
  {
   "cell_type": "markdown",
   "metadata": {},
   "source": [
    "### Graphical Method"
   ]
  },
  {
   "cell_type": "code",
   "execution_count": null,
   "metadata": {},
   "outputs": [],
   "source": [
    "# Generate input voltages \n",
    "vIs = np.arange(0, VS + 0.1, 0.1)\n",
    "# Compute Load Line\n",
    "vOs_loadLine = np.arange(0, VS + 0.1, 0.1)\n",
    "loadLine = [iDS_Fun(VS, vO, RL) *100 for vO in vOs_loadLine] # BEWARE: '* 100' => to do with K units?\n",
    "# generate iDS (SCS model) values from vI values\n",
    "iDSs10 = [iDS_Fun_SCS(K, vI, VT, RL, vGS10, VS) for vI in vIs]\n",
    "iDSs11 = [iDS_Fun_SCS(K, vI, VT, RL, vGS11, VS) for vI in vIs]\n",
    "iDSs12 = [iDS_Fun_SCS(K, vI, VT, RL, vGS12, VS) for vI in vIs]\n",
    "iDSs13 = [iDS_Fun_SCS(K, vI, VT, RL, vGS13, VS) for vI in vIs]\n",
    "iDSs14 = [iDS_Fun_SCS(K, vI, VT, RL, vGS14, VS) for vI in vIs]\n",
    "iDSs15 = [iDS_Fun_SCS(K, vI, VT, RL, vGS15, VS) for vI in vIs]\n",
    "\n",
    "# generate iDS (SR model) values from vI values\n",
    "iDSsSR = [iDS_Fun_Knee(K, vI, VT) for vI in vIs]"
   ]
  },
  {
   "cell_type": "markdown",
   "metadata": {},
   "source": [
    "#### Plot vDS vs iDS for MOSFET  saturation mode"
   ]
  },
  {
   "cell_type": "code",
   "execution_count": null,
   "metadata": {},
   "outputs": [],
   "source": [
    "# Plot iDS against vDS curves with different VGS values\n",
    "plt.figure(1)\n",
    "plt.title(\"iDS curve for MOSFET SCS Model and\"\n",
    "          \"\\n\"\n",
    "          \"Load Line (in blue)\")\n",
    "plt.ylabel(\"iDS\")\n",
    "plt.xlabel(\"vDS\")\n",
    "#plt.ylim(0.0, 1.5)\n",
    "\n",
    "# plot Load Line\n",
    "plt.plot(vIs, loadLine, linewidth=2, color='blue',) # load line\n",
    "\n",
    "# plot saturation currents\n",
    "plt.plot(vIs, iDSs10, 'r')\n",
    "plt.plot(vIs, iDSs11, 'r')\n",
    "plt.plot(vIs, iDSs12, 'r')\n",
    "plt.plot(vIs, iDSs13, 'r')\n",
    "plt.plot(vIs, iDSs14, 'r')\n",
    "plt.plot(vIs, iDSs15, 'r')\n",
    "\n",
    "# plot demarkation line between Triode and Saturation regions\n",
    "plt.plot(vIs - VT, iDSsSR, 'magenta', linestyle='dashed')\n",
    "\n",
    "# Plot vO vs vI MOSFET amplifier characteristic (transfer function ?)\n",
    "# Given a value of vI (= vGS) what is iDS and vO\n",
    "vGS_vI = 4.5\n",
    "print(\"vI_test = \" + str(vGS_vI))\n",
    "# Step 1: current source is given by:\n",
    "currentSource = [iDS_Fun_SCS(K, vI, VT, RL, vGS_vI, VS) for vI in vIs]\n",
    "# Plot current source\n",
    "plt.plot(vIs, currentSource, linewidth=2, color='g', linestyle='dashed')\n",
    "plt.show()\n",
    "\n",
    "# Step 3: The point of intersection between the device relationship line \n",
    "# and the load line will give vO \n",
    "vO_test = vO_Fun(VS, K, vGS_vI, VT, RL)\n",
    "# read off the the value for vO\n",
    "print(\"vO_test = \" + str(vO_test))"
   ]
  },
  {
   "cell_type": "markdown",
   "metadata": {},
   "source": [
    "## Part 2: LARGE SIGNAL ANALYSIS"
   ]
  },
  {
   "cell_type": "code",
   "execution_count": null,
   "metadata": {},
   "outputs": [],
   "source": [
    "vGS_vIs = np.arange(0, 11, 0.1)\n",
    "# compute vO voltages from vI voltages\n",
    "vGS_vOs = [vO_Fun(VS, K, vI, VT, RL) for vI in vGS_vIs]\n",
    "# plot vO vs vI graph\n",
    "plt.figure(2)\n",
    "plt.title(\"vO versus vI for MOSFET Device in Saturation Region\")\n",
    "plt.ylabel(\"vO\")\n",
    "plt.xlabel(\"vI\")\n",
    "\n",
    "plt.plot(vGS_vIs, vGS_vOs, 'b')\n",
    "\n",
    "## Step 2: Find saturation and triode points on vO vs vI graph\n",
    "# The load line represents the valid operational region\n",
    "# The RHS the boundary between the saturation and is cut-off regions:\n",
    "# bounded by vO = VS\n",
    "# bounded by vI = VT \n",
    "# and therefore iDS = 0\n",
    "vO_RHS = VS\n",
    "vI_RHS = VT\n",
    "iDS_RHS = 0.0\n",
    "\n",
    "# The LHS, the boundary between the saturation and triode regions:\n",
    "# Solve for the intersection between the load line and the triode region boundary\n",
    "# which gives a quadaradic equation.\n",
    "vO_LHS = ((-1.0 + math.sqrt(1+2*K*RL*VS)) / (K*RL)) # TAKEN FROM LECTURES!!!\n",
    "vI_LHS = VT + vO_LHS\n",
    "iDS_LHS = VS / RL + vO_LHS/RL\n",
    "\n",
    "# Valid Input & Output ranges under the SATURATION DISCIPLINE\n",
    "print(\"Input Range: vI:    \" + str(vI_RHS) + \" -> \" + str(vI_LHS))\n",
    "print(\"Output Range: vO:   \" + str(vO_LHS) + \" -> \" + str(vO_RHS))\n",
    "print(\"Current Range: iDS: \" + str(iDS_RHS) + \" -> \" + str(iDS_LHS))\n",
    "\n",
    "# plot saturation boundaries\n",
    "yaxis = np.arange(0, VS + 2.1, 0.1)\n",
    "plt.plot([VT] * len(yaxis), yaxis, linewidth=2, color='r', linestyle='dashed')\n",
    "plt.plot([vI_LHS] * len(yaxis), yaxis, linewidth=2, color='r', linestyle='dashed')\n",
    "plt.ylim(0, vO_RHS + 1)\n",
    "plt.xlim(0, vI_LHS + 1)\n",
    "plt.show()"
   ]
  },
  {
   "cell_type": "markdown",
   "metadata": {},
   "source": [
    "## Part 3: SMALL SIGNAL ANALYSIS"
   ]
  },
  {
   "cell_type": "code",
   "execution_count": null,
   "metadata": {},
   "outputs": [],
   "source": [
    "### Add a DC Boost to place input voltage, vI, in saturation region\n",
    "### This gives us an AMPLIFIED but NON-LINEAR  response\n",
    "t = np.linspace(0, 1, 500)\n",
    "DC_Boost = VT + (vI_LHS - vI_RHS) / 2.0  #1.5 # centres signal in the saturation region\n",
    "Signal_Scale = 1.0 # scales signal to remain within the saturation region\n",
    "vI_triangle = signal.sawtooth(2 * np.pi * 5 * t, 0.5) * Signal_Scale + DC_Boost\n",
    "vO_triangle = [vO_Fun(VS, K, vI, VT, RL) for vI in vI_triangle]\n",
    "\n",
    "plt.figure(3)\n",
    "plt.title(\"vO versus vI (plus Boost) over time\")\n",
    "plt.ylabel(\"vI and vO\")\n",
    "plt.xlabel(\"time\")\n",
    "plt.plot(t, vI_triangle, 'r', t, vO_triangle)\n",
    "plt.show()\n"
   ]
  },
  {
   "cell_type": "markdown",
   "metadata": {},
   "source": [
    "## Part 4: Plot non-linear and linear approximation"
   ]
  },
  {
   "cell_type": "code",
   "execution_count": null,
   "metadata": {},
   "outputs": [],
   "source": [
    "# If we just use a small part of the saturation region, which is non-linear,\n",
    "# we can approximate a LINEAR AMPLIFIER\n",
    "### SMALL SIGNAL TRICK\n",
    "## VI, the input operating point, is the DC_Boost\n",
    "VI = DC_Boost\n",
    "VO = vO_Fun(VS, K, DC_Boost, VT, RL)\n",
    "print(\"Operating Point: (\" + str(VI) + \", \" + str(VO) + \")\")\n",
    "\n",
    "# linear response approximation\n",
    "Signal_Scale = 0.05 # scales signal to remain within the saturation region\n",
    "# linear voltage input -> small signal\n",
    "vIs_line = np.arange(-0.3, 0.4, 0.1)\n",
    "# non-linear voltage input\n",
    "vIs_nline = np.arange(0, 2, 0.1)\n",
    "\n",
    "# linear voltage ouput -> small signal\n",
    "vOs_line = [vo_Fun(RL, K, VI, VT, vi) + VO for vi in vIs_line] \n",
    "# non-linear voltage output\n",
    "vO_nline = [vO_Fun(VS, K, vI, VT, RL) for vI in vIs_nline]\n",
    "\n",
    "# Boost both linear and non-linear voltage inputs\n",
    "vIs_line_Boost = vIs_line + DC_Boost\n",
    "vIs_nline_Boost = vIs_nline + DC_Boost\n",
    "plt.figure(4)\n",
    "plt.title(\"vo-vi linear aproximation AND\"\n",
    "          \"\\n\"\n",
    "          \"vO-vI non-linear saturation region curve\")\n",
    "plt.ylabel(\"vO (Volts)\")\n",
    "plt.xlabel(\"vI (Volts)\")\n",
    "plt.ylim(VT, VS+2)\n",
    "plt.xlim(vI_RHS, vI_LHS)\n",
    "\n",
    "\n",
    "\n",
    "plt.plot(vIs_line_Boost, vOs_line, 'b')\n",
    "plt.plot(vIs_nline, vO_nline, 'g')\n",
    "plt.show()"
   ]
  },
  {
   "cell_type": "markdown",
   "metadata": {},
   "source": [
    "## Part 5:Simple Linear Amplifier (Gain) using Small Signal Analysis"
   ]
  },
  {
   "cell_type": "code",
   "execution_count": null,
   "metadata": {},
   "outputs": [],
   "source": [
    "# using the restricted saturation region curve\n",
    "# we can approximate a linear amplifier\n",
    "# generate input signals\n",
    "t = np.linspace(0, 1, 500)\n",
    "DC_Boost = 1.5 # centres signal in the saturation region\n",
    "Signal_Scale = 0.05 # scales signal to make the signal small\n",
    "f = 5\n",
    "# generate triangular wave\n",
    "vI_triangle = signal.sawtooth(2 * np.pi * f * t, 0.5) * Signal_Scale + DC_Boost\n",
    "# generate sine wave\n",
    "vI_sine = np.sin(2 * np.pi * f * t) * Signal_Scale + DC_Boost\n",
    "\n",
    "# method 1 & 2\n",
    "## input waves\n",
    "vi_triangle = signal.sawtooth(2 * np.pi * f * t, 0.5) * Signal_Scale\n",
    "# generate sine wave\n",
    "vi_sine = np.sin(2 * np.pi * f * t) * Signal_Scale\n",
    "## output waves\n",
    "vo_triangle = [vo_Fun(RL, K, VI, VT, vi) for vi in vi_triangle]\n",
    "vo_sine = [vo_Fun(RL, K, VI, VT, vi) for vi in vi_sine]\n",
    "\n",
    "plt.figure(5)\n",
    "plt.title(\"vo = -A*vi\"\n",
    "          \"\\n\"\n",
    "          \"Circuit behaves like a Linear Amplifier for Small Signals\")\n",
    "plt.ylabel(\"vi and vo\")\n",
    "plt.xlabel(\"time\")\n",
    "plt.plot(t, vi_triangle, 'r', t, vo_triangle, 'b')\n",
    "#plt.plot(t, vi_sine, 'r', t, vo_sine, 'b')\n",
    "plt.show()\n",
    "\n"
   ]
  },
  {
   "cell_type": "code",
   "execution_count": null,
   "metadata": {},
   "outputs": [],
   "source": []
  }
 ],
 "metadata": {
  "kernelspec": {
   "display_name": "Python 2",
   "language": "python",
   "name": "python2"
  },
  "language_info": {
   "codemirror_mode": {
    "name": "ipython",
    "version": 2
   },
   "file_extension": ".py",
   "mimetype": "text/x-python",
   "name": "python",
   "nbconvert_exporter": "python",
   "pygments_lexer": "ipython2",
   "version": "2.7.12"
  }
 },
 "nbformat": 4,
 "nbformat_minor": 2
}
