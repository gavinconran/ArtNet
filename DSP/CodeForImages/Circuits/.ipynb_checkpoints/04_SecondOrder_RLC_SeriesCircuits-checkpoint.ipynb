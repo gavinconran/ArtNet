{
 "cells": [
  {
   "cell_type": "markdown",
   "metadata": {},
   "source": [
    "# Second Order RLC Series Circuits"
   ]
  },
  {
   "cell_type": "markdown",
   "metadata": {},
   "source": [
    "### Set up"
   ]
  },
  {
   "cell_type": "code",
   "execution_count": null,
   "metadata": {},
   "outputs": [],
   "source": [
    "import numpy as np\n",
    "import math\n",
    "import matplotlib.pyplot as plt\n",
    "import matplotlib as mpl\n",
    "from scipy import signal\n",
    "mpl.style.use('classic')"
   ]
  },
  {
   "cell_type": "markdown",
   "metadata": {},
   "source": [
    "## Capacitor & Inductor Energy"
   ]
  },
  {
   "cell_type": "code",
   "execution_count": null,
   "metadata": {},
   "outputs": [],
   "source": [
    "def EnergyCap(C, v):\n",
    "    '''\n",
    "    C is capacitance in farads\n",
    "    v is voltage in volts\n",
    "    returns the Energy stored in the Capacitor in Joules\n",
    "    '''\n",
    "    return 0.5 * C * v**2\n",
    "\n",
    "def EnergyInd(L, i):\n",
    "    '''\n",
    "    L is the Inductance in Henries\n",
    "    i is the current in ohms\n",
    "    returns the energy stored in the Inductor in Joules\n",
    "    '''\n",
    "    return 0.5 * L * i**2"
   ]
  },
  {
   "cell_type": "markdown",
   "metadata": {},
   "source": [
    "## Undamped, UnDriven Second Order Inductor-Capacitor Circuit and Mass-Spring System\n",
    "### No Voltage Source / External Energy\n",
    "Energy moves from Inductor / Mass to Capacitor / Spring via a transform from Potential Energy (PE) to Kinetic Energy (KE) and back again in perpetuity (as there is no damping). The dynamics of both systems are governed by Second Order Differential Equations.  \n",
    "Although derived separatly from different physcial laws, both systems are equivalent."
   ]
  },
  {
   "cell_type": "markdown",
   "metadata": {},
   "source": [
    "### x-axis will be time "
   ]
  },
  {
   "cell_type": "code",
   "execution_count": null,
   "metadata": {},
   "outputs": [],
   "source": [
    "t = np.arange(0, 30.0, 0.1)"
   ]
  },
  {
   "cell_type": "markdown",
   "metadata": {},
   "source": [
    "### Mass-Spring System\n",
    "Two forces in play:  \n",
    "Hooke's Law governs dynamics of spring: F = - k * y  \n",
    "Newton's Law governs gravity          : F = m * a  "
   ]
  },
  {
   "cell_type": "code",
   "execution_count": null,
   "metadata": {},
   "outputs": [],
   "source": [
    "# displacement from equilibrium of Mass-Spring system\n",
    "def distance_MS(A, rads):\n",
    "    '''\n",
    "    A is constant value computed from initial values\n",
    "    rads is the angle (omega0 * t) in radians \n",
    "    returns the displacement at angle, rad in meterss\n",
    "    '''\n",
    "    return A * np.cos(rads) "
   ]
  },
  {
   "cell_type": "code",
   "execution_count": null,
   "metadata": {},
   "outputs": [],
   "source": [
    "k = 8.0 # spring constant\n",
    "mass = 2.0 #kgs - mass of weight\n",
    "\n",
    "A = np.sqrt(k / mass)  # initial displacement from equilibrium\n",
    "\n",
    "# compute displacement over time\n",
    "displacement = distance_MS(A, t)"
   ]
  },
  {
   "cell_type": "code",
   "execution_count": null,
   "metadata": {},
   "outputs": [],
   "source": [
    "plt.title(\"Displacement Solution to Second Order DE Mass-Spring System\"\n",
    "         \"\\n\"\n",
    "         \"Undamped\")\n",
    "plt.ylabel(\"Displacement (meters)\")\n",
    "plt.xlabel(\"Time\")\n",
    "plt.plot(t, displacement)"
   ]
  },
  {
   "cell_type": "markdown",
   "metadata": {},
   "source": [
    "### Inductor-Capacitor System\n",
    "Node Analysis reveals two currents:   \n",
    "Current across the Inductor  \n",
    "Current across the Capacitor   "
   ]
  },
  {
   "cell_type": "code",
   "execution_count": null,
   "metadata": {},
   "outputs": [],
   "source": [
    "# displacement from equilibrium of Mass-Spring system\n",
    "def voltage_LC_VI0(VC, t):\n",
    "    '''\n",
    "    V is the initial voltage across the capacitance in volts\n",
    "    t is time in seconds\n",
    "    returns the voltage at angle, rad in volts\n",
    "    '''\n",
    "    return VC * np.cos(t)"
   ]
  },
  {
   "cell_type": "code",
   "execution_count": null,
   "metadata": {},
   "outputs": [],
   "source": [
    "VC = 2 # initial voltage across the capacitance in volts\n",
    "\n",
    "# compute voltage over time\n",
    "voltage = voltage_LC_VI0(VC, t)"
   ]
  },
  {
   "cell_type": "code",
   "execution_count": null,
   "metadata": {},
   "outputs": [],
   "source": [
    "plt.title(\"Voltage Solution to Second Order DE Inductor-Capacitance System\"\n",
    "         \"\\n\"\n",
    "         \"Undamped\")\n",
    "plt.ylabel(\"Voltage (volts)\")\n",
    "plt.xlabel(\"Time (seconds)\")\n",
    "plt.plot(t, voltage)"
   ]
  },
  {
   "cell_type": "markdown",
   "metadata": {},
   "source": [
    "## Analyzing an RLC Circuit\n",
    "### Apply Node Method\n",
    "### Solve Differential equation\n",
    "#### Step 1: Find the particular solution\n",
    "#### Step 2: Find the homogeneous solution\n",
    "#### Step 3: The Total solution is the sum of the particular solution and homogeneous solutions\n",
    "#### Step 4: Use the Initial conditions to solve for the remaining constants"
   ]
  },
  {
   "cell_type": "markdown",
   "metadata": {},
   "source": [
    "##  UNDAMPED, Driven Second Order RLC Series Circuit - No Resistance\n",
    "### Purely Imaginary Complex Roots of Characteristic Equation"
   ]
  },
  {
   "cell_type": "markdown",
   "metadata": {},
   "source": [
    "### Current and voltage solutions\n",
    "after applying Euler's relation to the solution"
   ]
  },
  {
   "cell_type": "code",
   "execution_count": null,
   "metadata": {},
   "outputs": [],
   "source": [
    "# voltage across the capacitor\n",
    "def voltage_LC(VI, t):\n",
    "    '''\n",
    "    VI is the input voltage of rising step in volts\n",
    "    t is time in seconds \n",
    "    omega0 is the undamped natural frequency\n",
    "    returns the voltage at angle, rad in volts\n",
    "    '''\n",
    "    return VI - VI * np.cos(t)"
   ]
  },
  {
   "cell_type": "code",
   "execution_count": null,
   "metadata": {},
   "outputs": [],
   "source": [
    "# current across the inductor\n",
    "def current_LC(C, VI, omega0, t):\n",
    "    '''\n",
    "    VI is the input voltage of rising step in volts\n",
    "    t is time in seconds \n",
    "    omega0 is the undamped natural frequency\n",
    "    C is the capacitance in farads\n",
    "    returns the current at angle rad in amps\n",
    "    '''\n",
    "    return C * VI * omega0 * np.sin(t)"
   ]
  },
  {
   "cell_type": "markdown",
   "metadata": {},
   "source": [
    "### Plot LC Circuit Response to a Step Input Voltage"
   ]
  },
  {
   "cell_type": "code",
   "execution_count": null,
   "metadata": {},
   "outputs": [],
   "source": [
    "C = 10**-6 # farads\n",
    "L = 10**-6\n",
    "VI = 5 # input voltage in volts\n",
    "\n",
    "omega0 = 1 / np.sqrt(L*C) #rads[1] / t[1] # undamped natural (resonant) frequency of circuit (= 1/sqrt(LC))\n",
    "print(omega0)\n",
    "\n",
    "# compute voltage over time\n",
    "voltage = voltage_LC(VI, t)\n",
    "Energy_cap = EnergyCap(C, voltage)\n",
    "\n",
    "# compute current over time\n",
    "current = current_LC(C, VI, omega0, t)\n",
    "Energy_ind = EnergyInd(L, current)"
   ]
  },
  {
   "cell_type": "code",
   "execution_count": null,
   "metadata": {},
   "outputs": [],
   "source": [
    "plt.title(\"Voltage Solution to Second Order Differential Equation\"\n",
    "         \"\\n\"\n",
    "         \"Undamped\")\n",
    "plt.ylabel(\"Voltage (volts)\")\n",
    "plt.xlabel(\"Time\")\n",
    "plt.plot(t, voltage)"
   ]
  },
  {
   "cell_type": "code",
   "execution_count": null,
   "metadata": {},
   "outputs": [],
   "source": [
    "plt.title(\"Current Solution to Second Order Differential Equation\"\n",
    "         \"\\n\"\n",
    "         \"Undamped\")\n",
    "plt.ylabel(\"Current (amps)\")\n",
    "plt.xlabel(\"Time\")\n",
    "plt.plot(t, current)"
   ]
  },
  {
   "cell_type": "code",
   "execution_count": null,
   "metadata": {},
   "outputs": [],
   "source": [
    "plt.title(\"Energy in the Capacitor\"\n",
    "         \"\\n\"\n",
    "         \"Undamped\")\n",
    "plt.ylabel(\"Energy (Joules)\")\n",
    "plt.xlabel(\"Time\")\n",
    "plt.plot(t, Energy_cap)"
   ]
  },
  {
   "cell_type": "code",
   "execution_count": null,
   "metadata": {},
   "outputs": [],
   "source": [
    "plt.title(\"Energy in the Inductor\"\n",
    "         \"\\n\"\n",
    "         \"Undamped\")\n",
    "plt.ylabel(\"Energy (Joules)\")\n",
    "plt.xlabel(\"Time\")\n",
    "plt.plot(t, Energy_ind)"
   ]
  },
  {
   "cell_type": "markdown",
   "metadata": {},
   "source": [
    "## Square Wave Driven Second Order RLC Series Circuit - TD Analysis\n",
    "Three scenaios:  \n",
    "1) Over-damped: a > w0  or Q > 0.5  where Q = w0/(2*a)  and 2a = R/L  \n",
    "2) Under-damped: a < w0 or Q < 0.5     \n",
    "3) Critically-damped: a = w0 or Q = 0.5  "
   ]
  },
  {
   "cell_type": "code",
   "execution_count": null,
   "metadata": {},
   "outputs": [],
   "source": [
    "# voltage across the capacitor\n",
    "def voltage_RLC_Cap(VI, omega0, omegad, alpha, t):\n",
    "    '''\n",
    "    VI is the input voltage of rising step in volts\n",
    "    t is time in seconds \n",
    "    omega0 is the undamped natural frequency\n",
    "    omegad is the damped natural frequency (omegad < omega0)\n",
    "    returns the voltage at angle, rad in volts\n",
    "    '''\n",
    "    phi = np.arctan(alpha/omegad) # phase\n",
    "    return VI - VI * (omega0 / omegad) * np.exp(-alpha*t)  * np.cos(omegad*t - phi) "
   ]
  },
  {
   "cell_type": "markdown",
   "metadata": {},
   "source": [
    "## OVER-DAMPED, Driven Second Order RLC Series Circuit\n",
    "### Real Roots of Characteristic Equation (alpha > omega0)\n",
    "### No Sinusoids"
   ]
  },
  {
   "cell_type": "code",
   "execution_count": null,
   "metadata": {},
   "outputs": [],
   "source": [
    "R = 1900.0 # ohms\n",
    "C = 10*10**(-12) # farads\n",
    "L = 10*10**-6 # henrys\n",
    "VI = 5.0 # input voltage in volts\n",
    "\n",
    "omega0 = 1.0 / np.sqrt(L*C) # undamped natural (resonant) frequency of circuit (= 1/sqrt(LC))\n",
    "alpha = R / (2*L) # does alpha have a name? damping constant\n",
    "\n",
    "omegad = np.sqrt(omega0**2 - alpha**2)  # damped natural frequency\n",
    "# omegad < omega0\n",
    "\n",
    "t = np.arange(0, 0.0000003, 0.000000001)\n",
    "voltage_OD = voltage_RLC_Cap(VI, omega0, omegad, alpha, t)\n",
    "#decay = 2* VI + np.exp(-alpha*t)\n"
   ]
  },
  {
   "cell_type": "code",
   "execution_count": null,
   "metadata": {},
   "outputs": [],
   "source": [
    "plt.title(\"Voltage Solution to Second Order Differential Equation\"\n",
    "         \"\\n\"\n",
    "         \"Over damped\")\n",
    "plt.ylabel(\"Voltage (volts)\")\n",
    "plt.xlabel(\"Time\")\n",
    "plt.plot(t, voltage_OD)\n",
    "#plt.plot(rads, decay, 'g')"
   ]
  },
  {
   "cell_type": "markdown",
   "metadata": {},
   "source": [
    "## UNDER-DAMPED, Driven Second Order RLC Series Circuit\n",
    "### Complex Roots of Characteristic Equation (alpha < omega0)\n",
    "### Decay Rate is -alpha"
   ]
  },
  {
   "cell_type": "markdown",
   "metadata": {},
   "source": [
    "### Plot RLC Circuit Response to a Step Input Voltage"
   ]
  },
  {
   "cell_type": "code",
   "execution_count": null,
   "metadata": {},
   "outputs": [],
   "source": [
    "R = 300.0 # ohms\n",
    "C = 10*10**(-12) # farads\n",
    "L = 10*10**-6 # henrys\n",
    "VI = 5.0 # input voltage in volts\n",
    "\n",
    "omega0 = 1.0 / np.sqrt(L*C) # undamped natural (resonant) frequency of circuit (= 1/sqrt(LC))\n",
    "alpha = R / (2*L) # does alpha have a name? damping constant\n",
    "\n",
    "omegad = np.sqrt(omega0**2 - alpha**2)  # damped natural frequency\n",
    "# omegad < omega0\n",
    "\n",
    "t = np.arange(0, 0.0000003, 0.000000001)\n",
    "voltage_UD = voltage_RLC_Cap(VI, omega0, omegad, alpha, t)\n",
    "#decay = 2* VI + np.exp(-alpha*t)\n"
   ]
  },
  {
   "cell_type": "code",
   "execution_count": null,
   "metadata": {},
   "outputs": [],
   "source": [
    "plt.title(\"Voltage Solution to Second Order Differential Equation\"\n",
    "         \"\\n\"\n",
    "         \"Under damped\")\n",
    "plt.ylabel(\"Voltage (volts)\")\n",
    "plt.xlabel(\"Time\")\n",
    "plt.plot(t, voltage_UD)\n",
    "#plt.plot(rads, decay, 'g')"
   ]
  },
  {
   "cell_type": "markdown",
   "metadata": {},
   "source": [
    "#### Oscillation is called 'RINGING'"
   ]
  },
  {
   "cell_type": "markdown",
   "metadata": {},
   "source": [
    "## CRITICALLY-DAMPED, Driven Second Order RLC Series Circuit\n",
    "### Repeated Real Root of Characteristic Equation (alpha = omega0)\n",
    "### Decay Rate governed by s"
   ]
  },
  {
   "cell_type": "code",
   "execution_count": null,
   "metadata": {},
   "outputs": [],
   "source": [
    "R = 1000.0 # ohms\n",
    "C = 10*10**(-12) #-12 # farads\n",
    "L = 10*10**-6 # henrys\n",
    "vi = 3.0 #5.0 # input voltage in volts\n",
    "\n",
    "w0 = 1.0 / np.sqrt(L*C) # undamped natural (resonant) frequency of circuit (= 1/sqrt(LC))\n",
    "a = R / (2*L) # does alpha have a name? Damping Factor\n",
    "\n",
    "wd = np.sqrt(w0**2 - a**2)  # damped natural frequency\n",
    "# omegad < omega0\n",
    "\n",
    "t = np.arange(0, 0.0000003, 0.000000001)\n",
    "volt_UD = voltage_RLC_Cap(vi, w0, wd, a, t)\n",
    "\n",
    "\n",
    "Q = w0/(2*a) # Quality Factor: number of cycles of 'ringing'\n",
    "A = -vi * (w0 / wd)\n",
    "phi = -np.arctan(a/wd)\n",
    "period = 2*np.pi / wd # period of oscillation\n",
    "\n",
    "print(\"alpha: \" + str(a))\n",
    "print(\"w0: \"+ str(w0) + \" Hz\")\n",
    "print(\"wd: \"+ str(wd) + \" Hz\")\n",
    "print(\"Q: \"+ str(Q) + \" cycles of ringing\")\n",
    "print(\"period: \" + str(period) + \" seconds\")\n",
    "print(\"A: \"+ str(A))\n",
    "print(\"phi: \"+ str(phi) + \" radians\")"
   ]
  },
  {
   "cell_type": "code",
   "execution_count": null,
   "metadata": {},
   "outputs": [],
   "source": [
    "plt.title(\"S18E3: Exercise - Total Solution\")\n",
    "plt.ylabel(\"Voltage (volts)\")\n",
    "plt.xlabel(\"Time\")\n",
    "plt.plot(t, volt_UD)\n",
    "#plt.plot(rads, decay, 'g')"
   ]
  },
  {
   "cell_type": "code",
   "execution_count": null,
   "metadata": {},
   "outputs": [],
   "source": []
  },
  {
   "cell_type": "code",
   "execution_count": null,
   "metadata": {},
   "outputs": [],
   "source": []
  }
 ],
 "metadata": {
  "kernelspec": {
   "display_name": "Python 2",
   "language": "python",
   "name": "python2"
  },
  "language_info": {
   "codemirror_mode": {
    "name": "ipython",
    "version": 2
   },
   "file_extension": ".py",
   "mimetype": "text/x-python",
   "name": "python",
   "nbconvert_exporter": "python",
   "pygments_lexer": "ipython2",
   "version": "2.7.12"
  }
 },
 "nbformat": 4,
 "nbformat_minor": 2
}
