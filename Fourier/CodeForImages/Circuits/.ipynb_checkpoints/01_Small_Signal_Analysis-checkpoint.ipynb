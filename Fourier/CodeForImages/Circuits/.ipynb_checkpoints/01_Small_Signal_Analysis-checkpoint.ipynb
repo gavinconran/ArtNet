{
 "cells": [
  {
   "cell_type": "markdown",
   "metadata": {},
   "source": [
    "# Small Signal Analysis Technique \n",
    "used to put vI in the saturation input range"
   ]
  },
  {
   "cell_type": "markdown",
   "metadata": {},
   "source": [
    "### Notation\n",
    "Total Coordinate: (vD, iD)  => Total, i.e. (VD + vd, ID + id)  \n",
    "Operating Point:  (VD, ID)  => DC part  \n",
    "Perturbation:     (vd, id)  => incremental part  "
   ]
  },
  {
   "cell_type": "code",
   "execution_count": null,
   "metadata": {},
   "outputs": [],
   "source": [
    "import numpy as np\n",
    "import math\n",
    "import matplotlib.pyplot as plt\n",
    "import matplotlib as mpl\n",
    "mpl.style.use('classic')"
   ]
  },
  {
   "cell_type": "markdown",
   "metadata": {},
   "source": [
    "#### iD from vD (Device Constraint on iD and vD)"
   ]
  },
  {
   "cell_type": "code",
   "execution_count": null,
   "metadata": {},
   "outputs": [],
   "source": [
    "def iD_Device(a, b, vD):\n",
    "    return a*np.exp(b*vD)"
   ]
  },
  {
   "cell_type": "markdown",
   "metadata": {},
   "source": [
    "#### derivative of iD_Device # gradient of device constraint"
   ]
  },
  {
   "cell_type": "code",
   "execution_count": null,
   "metadata": {},
   "outputs": [],
   "source": [
    "def iD_Device_Derivative(vD, a, b):\n",
    "    return a * np.exp(b*vD) * b"
   ]
  },
  {
   "cell_type": "markdown",
   "metadata": {},
   "source": [
    "#### Linear approximation of iD_Device"
   ]
  },
  {
   "cell_type": "code",
   "execution_count": null,
   "metadata": {},
   "outputs": [],
   "source": [
    "def idFun(vi, R, RD):\n",
    "    return vi / (R + RD)"
   ]
  },
  {
   "cell_type": "markdown",
   "metadata": {},
   "source": [
    "#### Estimate VD until convergence"
   ]
  },
  {
   "cell_type": "code",
   "execution_count": null,
   "metadata": {},
   "outputs": [],
   "source": [
    "# used to approximate vA operating coordinate from guessed value of vA\n",
    "def VDApproxFun(R, vI, a, b, g):                  \n",
    "    return vI - R*a*np.exp(b*g)\n",
    "\n",
    "def VD_Approx(R, VI, a, b):\n",
    "    diff = 100; guess = 1.0; iters = 0\n",
    "    limit = 100; tolerance = 0.000001\n",
    "\n",
    "    while np.abs(diff) > tolerance:\n",
    "        newGuess = VDApproxFun(R, vI, a, b, guess)\n",
    "        diff = newGuess-guess\n",
    "        guess = newGuess\n",
    "        iters+=1\n",
    "        if (iters > limit):\n",
    "            print('Not converging')\n",
    "            break\n",
    "    return guess"
   ]
  },
  {
   "cell_type": "markdown",
   "metadata": {},
   "source": [
    "## Solve for the voltage vA when vI = 1.0V"
   ]
  },
  {
   "cell_type": "markdown",
   "metadata": {},
   "source": [
    "### Analytic Method"
   ]
  },
  {
   "cell_type": "markdown",
   "metadata": {},
   "source": [
    "#### Thevenin equivalent circuit   "
   ]
  },
  {
   "cell_type": "code",
   "execution_count": null,
   "metadata": {},
   "outputs": [],
   "source": [
    "R = 1; # Resistance\n",
    "vI = 1 # input voltage\n",
    "a = 0.25 # amps\n",
    "b = 1 #V**(-1)\n",
    "\n",
    "# VD operating coord ==> answer to part 1\n",
    "VD = VD_Approx(R, vI, a, b)\n",
    "# ID operating coord\n",
    "ID = iD_Device(a, b, VD) \n",
    "print(\"Operating Point: \")\n",
    "print(\"(VD, ID): \" + \"(\" + str(VD) + \", \" + str(ID) + \")\")"
   ]
  },
  {
   "cell_type": "markdown",
   "metadata": {},
   "source": [
    "#### Step 2: Create linearised models for each of the components in the network \n",
    "see notes for element replacement"
   ]
  },
  {
   "cell_type": "code",
   "execution_count": null,
   "metadata": {},
   "outputs": [],
   "source": [
    "# Gradient of device constraint at O.P. VD is = 1 / R\n",
    "gradient = iD_Device_Derivative(VD, a, b)\n",
    "R_Device = 1.0 / gradient\n",
    "print(\"R_Device = \" + str(R_Device) + \" ohms\")\n",
    "\n",
    "# can also compute by using RD = 1 / ID * b\n",
    "R_Device_b = 1.0 / ID*b\n",
    "print(\"R_Device_b = \" + str(R_Device_b) + \" ohms\")"
   ]
  },
  {
   "cell_type": "markdown",
   "metadata": {},
   "source": [
    "#### Part 3: Analyse Small Signal cct\n"
   ]
  },
  {
   "cell_type": "code",
   "execution_count": null,
   "metadata": {},
   "outputs": [],
   "source": [
    "# compute vd\n",
    "vd = 0.1\n",
    "id = idFun(vd, R, R_Device)\n",
    "print(\"For vd = 0.1 then vi = \" + str(id) + \" amps\")# Part 3: Analyse Small Signal cct"
   ]
  },
  {
   "cell_type": "markdown",
   "metadata": {},
   "source": [
    "#### Part 4: Plot non-linear and linear approximation of diode responses"
   ]
  },
  {
   "cell_type": "code",
   "execution_count": null,
   "metadata": {},
   "outputs": [],
   "source": [
    "plt.figure(1)\n",
    "plt.title(\"v-i characteristics for non-linear and\" \n",
    "          \"\\n\"\n",
    "          \"linear approximation\")\n",
    "plt.ylabel(\"id (Amps)\")\n",
    "plt.xlabel(\"vd (Volts)\")\n",
    "\n",
    "vds =  np.arange(-0.5, 1.0, 0.1)\n",
    "vds_nl =  np.arange(-1.0, 2.0, 0.1)\n",
    "# linear response approximation\n",
    "# a is the function bias\n",
    "ids = [idFun(v, R, R_Device) + a for v in vds]\n",
    "ids = np.array(ids)\n",
    "# non-linear response\n",
    "ids_nl = [iD_Device(a, b, v) for v in vds_nl]\n",
    "ids_nl = np.array(ids_nl)\n",
    "\n",
    "plt.plot(vds, ids, 'b', vds_nl, ids_nl, 'g')\n",
    "plt.axhline(0, color='black')\n",
    "plt.axvline(0, color='black')\n",
    "plt.show()\n"
   ]
  },
  {
   "cell_type": "code",
   "execution_count": null,
   "metadata": {},
   "outputs": [],
   "source": []
  },
  {
   "cell_type": "code",
   "execution_count": null,
   "metadata": {},
   "outputs": [],
   "source": []
  }
 ],
 "metadata": {
  "kernelspec": {
   "display_name": "Python 2",
   "language": "python",
   "name": "python2"
  },
  "language_info": {
   "codemirror_mode": {
    "name": "ipython",
    "version": 2
   },
   "file_extension": ".py",
   "mimetype": "text/x-python",
   "name": "python",
   "nbconvert_exporter": "python",
   "pygments_lexer": "ipython2",
   "version": "2.7.12"
  }
 },
 "nbformat": 4,
 "nbformat_minor": 2
}
