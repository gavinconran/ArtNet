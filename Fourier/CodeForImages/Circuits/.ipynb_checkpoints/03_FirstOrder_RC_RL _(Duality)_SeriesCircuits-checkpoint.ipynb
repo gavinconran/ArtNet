{
 "cells": [
  {
   "cell_type": "markdown",
   "metadata": {},
   "source": [
    "# First Order RC and RL (Duality) Series Circuits"
   ]
  },
  {
   "cell_type": "markdown",
   "metadata": {},
   "source": [
    "## Set Up"
   ]
  },
  {
   "cell_type": "code",
   "execution_count": null,
   "metadata": {},
   "outputs": [],
   "source": [
    "import numpy as np\n",
    "import math\n",
    "import matplotlib.pyplot as plt\n",
    "import matplotlib as mpl\n",
    "from scipy import signal\n",
    "mpl.style.use('classic')"
   ]
  },
  {
   "cell_type": "markdown",
   "metadata": {},
   "source": [
    "## Capacitor & Inductor Functions\n",
    "### Capacitor"
   ]
  },
  {
   "cell_type": "code",
   "execution_count": null,
   "metadata": {},
   "outputs": [],
   "source": [
    "def Capacitance(epsilon, A, d):\n",
    "    '''\n",
    "    epsilon \n",
    "    A is the Area of a parallel sheet\n",
    "    d is the distance between sheets\n",
    "    return the capacitance in Farads\n",
    "    '''\n",
    "    return epsilon * A / d\n",
    "\n",
    "def Charge(C, v):\n",
    "    '''\n",
    "    C is the Capacitance\n",
    "    v is the voltage\n",
    "    returns the total charge of the Capacitor in Coulombs\n",
    "    '''\n",
    "    return C * v"
   ]
  },
  {
   "cell_type": "markdown",
   "metadata": {},
   "source": [
    "### Inductor"
   ]
  },
  {
   "cell_type": "code",
   "execution_count": null,
   "metadata": {},
   "outputs": [],
   "source": [
    "\n",
    "\n",
    "def Inductance(mu, N, A, l):\n",
    "    '''\n",
    "    mu\n",
    "    N is the number of wire turns\n",
    "    A is the x-sectional area\n",
    "    l is the length\n",
    "    return the Inductance in Henries\n",
    "    '''\n",
    "    return mu * N**2 * A / l\n",
    "\n",
    "def Flux(L, i):\n",
    "    '''\n",
    "    L is the Inductance\n",
    "    i is the current\n",
    "    returns the total flux linked of the Inductor in Webers\n",
    "    '''\n",
    "    return L * i"
   ]
  },
  {
   "cell_type": "markdown",
   "metadata": {},
   "source": [
    "## Capacitor & Inductor Energy"
   ]
  },
  {
   "cell_type": "code",
   "execution_count": null,
   "metadata": {},
   "outputs": [],
   "source": [
    "def EnergyCap(C, v):\n",
    "    '''\n",
    "    C is capacitance in farads\n",
    "    v is voltage in volts\n",
    "    returns the Energy stored in the Capacitor in Joules\n",
    "    '''\n",
    "    return 0.5 * C * v**2\n",
    "\n",
    "def EnergyInd(L, i):\n",
    "    '''\n",
    "    L is the Inductance in Henries\n",
    "    i is the current in ohms\n",
    "    returns the energy stored in the Inductor in Joules\n",
    "    '''\n",
    "    return 0.5 * L * i**2"
   ]
  },
  {
   "cell_type": "markdown",
   "metadata": {},
   "source": [
    "## Capacitor & Inductor Power"
   ]
  },
  {
   "cell_type": "code",
   "execution_count": null,
   "metadata": {},
   "outputs": [],
   "source": [
    "def Power(E, t):\n",
    "    '''\n",
    "    E is the Energy in Joules\n",
    "    t is time in seconds\n",
    "    returns the Power in Watts\n",
    "    '''\n",
    "    return E / t"
   ]
  },
  {
   "cell_type": "markdown",
   "metadata": {},
   "source": [
    "## Analyzing an or RL RC Circuit\n",
    "### Apply Node Method\n",
    "### Solve Differential equation\n",
    "#### Step 1: Find the particular solution\n",
    "#### Step 2: Find the homogeneous solution\n",
    "#### Step 3: The Total solution is the sum of the particular solution and homogeneous solutions\n",
    "#### Step 4: Use the Initial conditions to solve for the remaining constants"
   ]
  },
  {
   "cell_type": "markdown",
   "metadata": {},
   "source": [
    "### First Order RC Series Circuit"
   ]
  },
  {
   "cell_type": "code",
   "execution_count": null,
   "metadata": {},
   "outputs": [],
   "source": [
    "def voltage_RC(VI, V0, R, C, t):\n",
    "    '''\n",
    "    VI voltage after time t\n",
    "    V0 is the initital voltage at t=0\n",
    "    R is the Resistance\n",
    "    C is the Capacitance\n",
    "    returns voltage at time t\n",
    "    '''\n",
    "    Tau = R*C\n",
    "    return VI + (V0 - VI) * np.exp(-t/Tau)"
   ]
  },
  {
   "cell_type": "markdown",
   "metadata": {},
   "source": [
    "### First Order RL Series Circuit"
   ]
  },
  {
   "cell_type": "code",
   "execution_count": null,
   "metadata": {},
   "outputs": [],
   "source": [
    "def current_RL(II, I0, R, L, t):\n",
    "    '''\n",
    "    II current after time t\n",
    "    I0 is the initital current at t=0\n",
    "    R is the Resistance\n",
    "    C is the Capacitance\n",
    "    returns current at time t\n",
    "    '''\n",
    "    Tau = L / R\n",
    "    return II + (I0 - II) * np.exp(-t/Tau)"
   ]
  },
  {
   "cell_type": "markdown",
   "metadata": {},
   "source": [
    "## Plot: RC Circuit"
   ]
  },
  {
   "cell_type": "code",
   "execution_count": null,
   "metadata": {},
   "outputs": [],
   "source": [
    "t = np.arange(0, 0.0051, 0.0001)"
   ]
  },
  {
   "cell_type": "markdown",
   "metadata": {},
   "source": [
    "### Scenario 1: VI > V0 (leading edge)"
   ]
  },
  {
   "cell_type": "code",
   "execution_count": null,
   "metadata": {},
   "outputs": [],
   "source": [
    "V0 = 0.0\n",
    "VI = 5.0\n",
    "R = 1000.0 # ohms\n",
    "C = 10**-6 # farads\n",
    "voltage_1 = voltage_RC(VI, V0, R, C, t)\n"
   ]
  },
  {
   "cell_type": "code",
   "execution_count": null,
   "metadata": {},
   "outputs": [],
   "source": [
    "plt.title(\"Voltage Solution to Differential Equation\"\n",
    "         \"\\n\"\n",
    "         \"V0 > VI (Leading Edge)\")\n",
    "plt.ylabel(\"Voltage (volts)\")\n",
    "plt.xlabel(\"Time (seconds)\")\n",
    "plt.plot(t, voltage_1)"
   ]
  },
  {
   "cell_type": "markdown",
   "metadata": {},
   "source": [
    "### Scenario 2: VI < V0 (trailing edge) "
   ]
  },
  {
   "cell_type": "code",
   "execution_count": null,
   "metadata": {},
   "outputs": [],
   "source": [
    "V0 = 5.0\n",
    "VI = 0.0\n",
    "R = 1000.0\n",
    "C = 10**-6 # Farads\n",
    "voltage_2 = voltage_RC(VI, V0, R, C, t)"
   ]
  },
  {
   "cell_type": "code",
   "execution_count": null,
   "metadata": {},
   "outputs": [],
   "source": [
    "plt.title(\"Voltage Solution to Differential Equation\"\n",
    "         \"\\n\"\n",
    "         \"V0 < VI (Trailing Edge)\")\n",
    "plt.ylabel(\"Voltage (volts)\")\n",
    "plt.xlabel(\"Time (seconds)\")\n",
    "plt.plot(t, voltage_2)"
   ]
  },
  {
   "cell_type": "markdown",
   "metadata": {},
   "source": [
    "## Plot: RL Circuit"
   ]
  },
  {
   "cell_type": "markdown",
   "metadata": {},
   "source": [
    "### Scenario 1: II > I0 (leading edge)"
   ]
  },
  {
   "cell_type": "code",
   "execution_count": null,
   "metadata": {},
   "outputs": [],
   "source": [
    "I0 = 0.0\n",
    "II = 5.0\n",
    "R = 1000.0 # ohms\n",
    "L = 1 # Henries\n",
    "current_1 = current_RL(II, I0, R, L, t)\n"
   ]
  },
  {
   "cell_type": "code",
   "execution_count": null,
   "metadata": {},
   "outputs": [],
   "source": [
    "plt.title(\"Current Solution to Differential Equation\"\n",
    "         \"\\n\"\n",
    "         \"I0 > II (Leading Edge)\")\n",
    "plt.ylabel(\"Current (Ampss)\")\n",
    "plt.xlabel(\"Time (seconds)\")\n",
    "plt.plot(t, current_1)"
   ]
  },
  {
   "cell_type": "markdown",
   "metadata": {},
   "source": [
    "### Scenario 2: II < I0 (trailng edge)"
   ]
  },
  {
   "cell_type": "code",
   "execution_count": null,
   "metadata": {},
   "outputs": [],
   "source": [
    "I0 = 5.0\n",
    "II = 0.0\n",
    "R = 1000.0 # ohms\n",
    "L = 1 # Henries\n",
    "current_2 = current_RL(II, I0, R, L, t)\n"
   ]
  },
  {
   "cell_type": "code",
   "execution_count": null,
   "metadata": {},
   "outputs": [],
   "source": [
    "plt.title(\"Current Solution to Differential Equation\"\n",
    "         \"\\n\"\n",
    "         \"I0 < II (Trailing Edge)\")\n",
    "plt.ylabel(\"Current (Amps)\")\n",
    "plt.xlabel(\"Time (seconds)\")\n",
    "plt.plot(t, current_2)"
   ]
  },
  {
   "cell_type": "markdown",
   "metadata": {},
   "source": [
    "## Delay"
   ]
  },
  {
   "cell_type": "markdown",
   "metadata": {},
   "source": [
    "### Rising Delay"
   ]
  },
  {
   "cell_type": "code",
   "execution_count": null,
   "metadata": {},
   "outputs": [],
   "source": [
    "def delayRising(R, C, VS, VOH):\n",
    "    '''\n",
    "    R is load resistance in ohms\n",
    "    C is Gate to Source Capacitance in Farads\n",
    "    VS (equal to VI) is the source voltage in volts\n",
    "    VOH is the high output voltage threshold in volts\n",
    "    returns the rising delay in seconds\n",
    "    '''\n",
    "    return -R*C* np.log((VS - VOH) / VS)"
   ]
  },
  {
   "cell_type": "markdown",
   "metadata": {},
   "source": [
    "#### Example"
   ]
  },
  {
   "cell_type": "code",
   "execution_count": null,
   "metadata": {},
   "outputs": [],
   "source": [
    "RL = 1000 # ohms\n",
    "CGS = 0.1 *10**(-12) # farads\n",
    "VS = 5.0 # volts\n",
    "VOH = 4.0 # volts\n",
    "\n",
    "tr = delayRising(RL, CGS, VS, VOH)\n",
    "print(\"Rising Delay: \" + str(tr) + \" seconds\")\n",
    "# Rising delay can be approximated by using the time constant, tau = RL*CGS\n",
    "tr_approx = RL * CGS\n",
    "print(\"Rising Delay Approx: \" + str(tr_approx) + \" seconds\")\n",
    "\n",
    "freq = 1.0 / tr\n",
    "print (\"Clock Frequency: \" + str(freq) + \" Hertz\")\n",
    "freq_approx = 1.0 / tr_approx\n",
    "print (\"Clock Frequency Approx: \" + str(freq_approx) + \" Hertz\")"
   ]
  },
  {
   "cell_type": "markdown",
   "metadata": {},
   "source": [
    "### Falling Delay"
   ]
  },
  {
   "cell_type": "code",
   "execution_count": null,
   "metadata": {},
   "outputs": [],
   "source": [
    "def R_TH_Fun(R_L, R_ON):\n",
    "    '''\n",
    "    R_L is load resistance in ohms\n",
    "    R_ON is MOSFET resistance when switched ON in ohms\n",
    "    returns Thevenin Circuit equivalent resistance in ohms\n",
    "    '''\n",
    "    return R_ON * R_L / (R_ON + R_L)\n",
    "\n",
    "def V_TH_Fun(V_S, R_L, R_ON):\n",
    "    '''\n",
    "    V_S is source voltage in volts\n",
    "    R_L is load resistance in ohms\n",
    "    R_ON is MOSFET resistance when switched ON in ohms\n",
    "    returns Thevenin Circuit equivalent voltage in volts\n",
    "    '''\n",
    "    return V_S * R_ON / (R_ON + R_L)\n",
    "\n",
    "\n",
    "def delayFalling(R_TH, C_GS, V_TH, V_OL, V_S):\n",
    "    '''\n",
    "    R_TH is Thevenin equivalent resistance in ohms\n",
    "    C_GS is Gate to Source Capacitance in Farads\n",
    "    V_TH is the Thevenin equivalent voltage in volts\n",
    "    V_OL is the Low output voltage threshold in volts\n",
    "    V_S is the source voltage in volts\n",
    "    returns the falling delay in seconds\n",
    "    '''\n",
    "    return -R_TH*C_GS * np.log((V_OL - V_TH) / (V_S - V_TH))"
   ]
  },
  {
   "cell_type": "markdown",
   "metadata": {},
   "source": [
    "### Example"
   ]
  },
  {
   "cell_type": "code",
   "execution_count": null,
   "metadata": {},
   "outputs": [],
   "source": [
    "R_L = 1000.0 # ohms\n",
    "R_ON = 10.0 # ohms\n",
    "C_GS = 0.1 *10**(-12) # farads\n",
    "V_S = 5.0 # volts\n",
    "V_OL = 1.0 # volts\n",
    "\n",
    "R_TH = R_TH_Fun(R_L, R_ON)\n",
    "print(\"Thevenin equivalent resistance: \" + str(R_TH) + \" ohms\")\n",
    "V_TH = V_TH_Fun(V_S, R_L, R_ON)\n",
    "print(\"Thevenin equivalent voltage: \" + str(V_TH) + \" volts\")\n",
    "\n",
    "tf = delayFalling(R_TH, C_GS, V_TH, V_OL, V_S)\n",
    "print(\"Falling Delay: \" + str(tf) + \" seconds\")\n",
    "# Rising delay can be approximated by using the time constant, tau = RL*CGS\n",
    "tf_approx = R_TH * CGS\n",
    "print(\"Falling Delay Approx: \" + str(tf_approx) + \" seconds\")"
   ]
  },
  {
   "cell_type": "markdown",
   "metadata": {},
   "source": [
    "Note that falling time << rising time which is due to the smaller time constant with the falling delay"
   ]
  },
  {
   "cell_type": "code",
   "execution_count": null,
   "metadata": {},
   "outputs": [],
   "source": []
  },
  {
   "cell_type": "code",
   "execution_count": null,
   "metadata": {},
   "outputs": [],
   "source": []
  }
 ],
 "metadata": {
  "kernelspec": {
   "display_name": "Python 2",
   "language": "python",
   "name": "python2"
  },
  "language_info": {
   "codemirror_mode": {
    "name": "ipython",
    "version": 2
   },
   "file_extension": ".py",
   "mimetype": "text/x-python",
   "name": "python",
   "nbconvert_exporter": "python",
   "pygments_lexer": "ipython2",
   "version": "2.7.12"
  }
 },
 "nbformat": 4,
 "nbformat_minor": 2
}
