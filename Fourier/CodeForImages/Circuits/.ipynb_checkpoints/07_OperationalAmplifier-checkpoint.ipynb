{
 "cells": [
  {
   "cell_type": "markdown",
   "metadata": {},
   "source": [
    "# Operational Amplifier"
   ]
  },
  {
   "cell_type": "markdown",
   "metadata": {},
   "source": [
    "### Set up"
   ]
  },
  {
   "cell_type": "code",
   "execution_count": null,
   "metadata": {},
   "outputs": [],
   "source": [
    "import numpy as np\n",
    "import math\n",
    "import matplotlib.pyplot as plt\n",
    "import matplotlib as mpl\n",
    "from scipy import signal\n",
    "mpl.style.use('classic')"
   ]
  },
  {
   "cell_type": "markdown",
   "metadata": {},
   "source": [
    "## Negative Feedback"
   ]
  },
  {
   "cell_type": "markdown",
   "metadata": {},
   "source": [
    "### Non-Inverting Amplifier Gain"
   ]
  },
  {
   "cell_type": "code",
   "execution_count": null,
   "metadata": {},
   "outputs": [],
   "source": [
    "# When A is small\n",
    "def NonInvGain_SmallA(A, R1, R2):\n",
    "    '''\n",
    "    A is Op Amp Gain\n",
    "    R1 is resistance R1 in ohms\n",
    "    R2 is resistance R2 in ohms\n",
    "    returns the Gain as a ratio without units\n",
    "    '''\n",
    "    return A / (1 + ((A*R2) / (R1+R2)))\n",
    "\n",
    "# When A is large\n",
    "def NonInvGain_LargeA(R1, R2):\n",
    "    '''\n",
    "    R1 is resistance R1 in ohms\n",
    "    R2 is resistance R2 in ohms\n",
    "    returns the Gain as a ratio without units\n",
    "    '''\n",
    "    return (R1+R2) / R2 \n",
    "    "
   ]
  },
  {
   "cell_type": "markdown",
   "metadata": {},
   "source": [
    "#### S23E1: Exercise - Non-Inverting Amplifier"
   ]
  },
  {
   "cell_type": "code",
   "execution_count": null,
   "metadata": {},
   "outputs": [],
   "source": [
    "R1 = 4000. #ohms\n",
    "R2 = 1000. #ohms\n",
    "# Small values of A\n",
    "AListSmall = [10., 100.]\n",
    "GainSmallA = [NonInvGain_SmallA(A, R1, R2) for A in AListSmall]\n",
    "print(\"Gain for Small A = \" + str(GainSmallA))\n",
    "# Large values of A\n",
    "AListLarge = [100000., 1000000.]\n",
    "GainLargeA = [NonInvGain_LargeA(R1, R2) for A in AListLarge]\n",
    "print(\"Gain for Large A = \" + str(GainLargeA))\n"
   ]
  },
  {
   "cell_type": "markdown",
   "metadata": {},
   "source": [
    "#### Plot vO against vI"
   ]
  },
  {
   "cell_type": "code",
   "execution_count": null,
   "metadata": {},
   "outputs": [],
   "source": [
    "# input Voltage\n",
    "vI = np.arange(-50*10**(-6), 50*10**(-6), 10**-7)\n",
    "# Output voltage\n",
    "vO =  NonInvGain_LargeA(R1, R2) * vI"
   ]
  },
  {
   "cell_type": "code",
   "execution_count": null,
   "metadata": {},
   "outputs": [],
   "source": [
    "plt.title(\"Non-Inverting Amplifier Gain\"\n",
    "          \"\\n\"\n",
    "          \"Negative Feedback\")\n",
    "plt.ylabel(\"Output Voltage (mVolts)\")\n",
    "plt.xlabel(\"Input Voltage (mVolts)\")\n",
    "plt.axhline(y=0, color='k')\n",
    "plt.axvline(x=0, color='k')\n",
    "vI_xaxis = vI * 1000 # convert to milli volts\n",
    "vO_yaxis = vO * 1000 # convert to milli volts\n",
    "plt.plot(vI_xaxis, vO_yaxis)\n",
    "plt.show()"
   ]
  },
  {
   "cell_type": "markdown",
   "metadata": {},
   "source": [
    "### Buffer Circuit (Output Voltage == Input Voltage)"
   ]
  },
  {
   "cell_type": "code",
   "execution_count": null,
   "metadata": {},
   "outputs": [],
   "source": [
    "# input Voltage\n",
    "vI = np.arange(-50*10**(-6), 50*10**(-6), 10**-7)\n",
    "# Output voltage\n",
    "vO_buffer = vI"
   ]
  },
  {
   "cell_type": "code",
   "execution_count": null,
   "metadata": {},
   "outputs": [],
   "source": [
    "plt.title(\"Buffer Circuit Gain\"\n",
    "          \"\\n\"\n",
    "          \"Negative Feedback\")\n",
    "plt.ylabel(\"Output Voltage (mVolts)\")\n",
    "plt.xlabel(\"Input Voltage (mVolts)\")\n",
    "plt.axhline(y=0, color='k')\n",
    "plt.axvline(x=0, color='k')\n",
    "vI_xaxis = vI * 1000 # convert to milli volts\n",
    "vO_yaxis = vO_buffer * 1000 # convert to milli volts\n",
    "plt.plot(vI_xaxis, vO_yaxis)\n",
    "plt.show()"
   ]
  },
  {
   "cell_type": "markdown",
   "metadata": {},
   "source": [
    "### Inverting Amplifier"
   ]
  },
  {
   "cell_type": "markdown",
   "metadata": {},
   "source": [
    "####  Gain"
   ]
  },
  {
   "cell_type": "code",
   "execution_count": null,
   "metadata": {},
   "outputs": [],
   "source": [
    "# When A is small\n",
    "def InvGain_SmallA(A, R1, R2):\n",
    "    '''\n",
    "    A is Op Amp Gain\n",
    "    R1 is resistance R1 in ohms\n",
    "    R2 is resistance R2 in ohms\n",
    "    returns the Gain as a ratio without units\n",
    "    '''\n",
    "    return (-A*R1) / (R1 + R2 + A*R2)\n",
    "\n",
    "# When A is large\n",
    "def InvGain_LargeA(R1, R2):\n",
    "    '''\n",
    "    R1 is resistance R1 in ohms\n",
    "    R2 is resistance R2 in ohms\n",
    "    returns the Gain as a ratio without units\n",
    "    '''\n",
    "    return -R1 / R2 "
   ]
  },
  {
   "cell_type": "code",
   "execution_count": null,
   "metadata": {},
   "outputs": [],
   "source": [
    "# input Voltage\n",
    "vI = np.arange(-50*10**(-6), 50*10**(-6), 10**-7)\n",
    "# Output voltage\n",
    "vO_InvertingAmp =  InvGain_LargeA(R1, R2) * vI"
   ]
  },
  {
   "cell_type": "markdown",
   "metadata": {},
   "source": [
    "#### Plot Gain of Inverting Amp"
   ]
  },
  {
   "cell_type": "code",
   "execution_count": null,
   "metadata": {},
   "outputs": [],
   "source": [
    "plt.title(\"Inverting Amplifier Gain\"\n",
    "          \"\\n\"\n",
    "          \"Negative Feedback\")\n",
    "plt.ylabel(\"Output Voltage (mVolts)\")\n",
    "plt.xlabel(\"Input Voltage (mVolts)\")\n",
    "plt.axhline(y=0, color='k')\n",
    "plt.axvline(x=0, color='k')\n",
    "vI_xaxis = vI * 1000 # convert to milli volts\n",
    "vO_yaxis = vO_InvertingAmp * 1000 # convert to milli volts\n",
    "plt.plot(vI_xaxis, vO_yaxis)\n",
    "plt.show()"
   ]
  },
  {
   "cell_type": "markdown",
   "metadata": {},
   "source": [
    "### Input Resistance"
   ]
  },
  {
   "cell_type": "code",
   "execution_count": null,
   "metadata": {},
   "outputs": [],
   "source": [
    "# When A is small\n",
    "def InvResistance_SmallA(A, R1, R2):\n",
    "    '''\n",
    "    A is Op Amp Gain\n",
    "    R1 is resistance R1 in ohms\n",
    "    R2 is resistance R2 in ohms\n",
    "    returns the Inverse Amp Input Resistance on ohms\n",
    "    '''\n",
    "    return 1.0 /(((1 + ((A*R1)/(R1+R2+A*R2))))*(1.0/(R1+R2)))\n",
    "\n",
    "# When A is large\n",
    "def InvResistance_LargeA(R2):\n",
    "    '''\n",
    "    R2 is resistance R2 in ohms\n",
    "    returns the Inverse Amp Input Resistance on ohms\n",
    "\n",
    "    '''\n",
    "    return R2 "
   ]
  },
  {
   "cell_type": "markdown",
   "metadata": {},
   "source": [
    "#### S23E3: Exercise - Amplifier Input Resistance"
   ]
  },
  {
   "cell_type": "code",
   "execution_count": null,
   "metadata": {},
   "outputs": [],
   "source": [
    "# Small values of A\n",
    "InputResistanceSmallA = [InvResistance_SmallA(A, R1, R2) for A in AListSmall]\n",
    "print(\"Input Resistance for Small A = \" + str(InputResistanceSmallA))\n",
    "# Large values of A\n",
    "InputResistanceLargeA = [InvResistance_LargeA(R2) for A in AListLarge]\n",
    "print(\"Input Resistance for Large A = \" + str(InputResistanceLargeA))\n"
   ]
  },
  {
   "cell_type": "code",
   "execution_count": null,
   "metadata": {},
   "outputs": [],
   "source": []
  }
 ],
 "metadata": {
  "kernelspec": {
   "display_name": "Python 2",
   "language": "python",
   "name": "python2"
  },
  "language_info": {
   "codemirror_mode": {
    "name": "ipython",
    "version": 2
   },
   "file_extension": ".py",
   "mimetype": "text/x-python",
   "name": "python",
   "nbconvert_exporter": "python",
   "pygments_lexer": "ipython2",
   "version": "2.7.12"
  }
 },
 "nbformat": 4,
 "nbformat_minor": 2
}
